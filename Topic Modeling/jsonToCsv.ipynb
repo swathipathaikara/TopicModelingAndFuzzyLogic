{
 "cells": [
  {
   "cell_type": "code",
   "execution_count": 108,
   "id": "87080458",
   "metadata": {},
   "outputs": [
    {
     "name": "stdout",
     "output_type": "stream",
     "text": [
      "Init Plugin\n",
      "Init Graph Optimizer\n",
      "Init Kernel\n"
     ]
    }
   ],
   "source": [
    "import os\n",
    "import tensorflow as tf\n",
    "import numpy as np\n",
    "import itertools"
   ]
  },
  {
   "cell_type": "code",
   "execution_count": 109,
   "id": "ef7ba6ce",
   "metadata": {},
   "outputs": [],
   "source": [
    "import os\n",
    "import json\n",
    "from pprint import pprint\n",
    "from copy import deepcopy\n",
    "\n",
    "import numpy as np\n",
    "import pandas as pd\n",
    "from tqdm.notebook import tqdm"
   ]
  },
  {
   "cell_type": "code",
   "execution_count": 172,
   "id": "17f38457",
   "metadata": {},
   "outputs": [
    {
     "name": "stdout",
     "output_type": "stream",
     "text": [
      "Number of articles retrieved from biorxiv: 3000\n"
     ]
    }
   ],
   "source": [
    "biorxiv_dir = '/Users/swathipathaikara/Desktop/DCSI/Optimization/DataSet/Documents3/'\n",
    "filenames = os.listdir(biorxiv_dir)\n",
    "print(\"Number of articles retrieved from biorxiv:\", len(filenames))"
   ]
  },
  {
   "cell_type": "code",
   "execution_count": 173,
   "id": "c302c823",
   "metadata": {},
   "outputs": [],
   "source": [
    "all_files = []\n",
    "\n",
    "for filename in filenames:\n",
    "    filename = biorxiv_dir + filename\n",
    "    file = json.load(open(filename, 'rb'))\n",
    "    all_files.append(file)"
   ]
  },
  {
   "cell_type": "code",
   "execution_count": 174,
   "id": "714472f7",
   "metadata": {},
   "outputs": [
    {
     "data": {
      "text/plain": [
       "3000"
      ]
     },
     "execution_count": 174,
     "metadata": {},
     "output_type": "execute_result"
    }
   ],
   "source": [
    "len(all_files)"
   ]
  },
  {
   "cell_type": "code",
   "execution_count": 175,
   "id": "1ccddcba",
   "metadata": {},
   "outputs": [
    {
     "name": "stdout",
     "output_type": "stream",
     "text": [
      "Dictionary keys: dict_keys(['paper_id', 'metadata', 'abstract', 'body_text', 'bib_entries', 'ref_entries', 'back_matter'])\n"
     ]
    }
   ],
   "source": [
    "file = all_files[0]\n",
    "print(\"Dictionary keys:\", file.keys())"
   ]
  },
  {
   "cell_type": "code",
   "execution_count": 176,
   "id": "8225c510",
   "metadata": {},
   "outputs": [
    {
     "name": "stdout",
     "output_type": "stream",
     "text": [
      "[{'cite_spans': [],\n",
      "  'ref_spans': [],\n",
      "  'section': 'Abstract',\n",
      "  'text': 'Comparative evaluations of national survey data can improve future '\n",
      "          'survey design and sampling strategies thereby enhancing our ability '\n",
      "          'to detect important population level trends. This paper presents '\n",
      "          'differences in past year estimates of alcohol, cigarette, '\n",
      "          'marijuana, and non-medical painkiller use prevalence by age, sex, '\n",
      "          'and race/ ethnicity between the 2012 National Survey on Drug Use '\n",
      "          'and Health (NSDUH) and the National Epidemiologic Survey on Alcohol '\n",
      "          'and Related Conditions (NESARC-III) administered in 2012-2013. In '\n",
      "          'general, estimates were higher for the NSDUH survey, but patterns '\n",
      "          'of substance use prevalence were similar across race/ethnicity, '\n",
      "          'age, and sex. Results show most significant differences in '\n",
      "          'estimates, across substances, age groups, and sex were greatest '\n",
      "          'among Hispanics, followed by non-Hispanic Whites, and non-Hispanic '\n",
      "          'Blacks. Members of other racial/ethnic groups (e.g., '\n",
      "          'Asian-American, Native American/Alaskan Native) were '\n",
      "          'underrepresented in the NSDUH survey. In many cases, estimates for '\n",
      "          'these subpopulations could not be calculated using the NSDUH data '\n",
      "          'limiting our ability to draw comparisons with the NESARC estimates. '\n",
      "          'Methodological differences in data collection for the NSDUH and '\n",
      "          'NESARC surveys may have contributed to these findings. To promote '\n",
      "          'effective population health surveillance methods, more work is '\n",
      "          'needed to derive reliable and valid estimates from demographic '\n",
      "          'subpopulations to better improve policymaking and intervention '\n",
      "          'programming for at-risk populations.'}]\n"
     ]
    }
   ],
   "source": [
    "pprint(file['abstract'])"
   ]
  },
  {
   "cell_type": "code",
   "execution_count": 177,
   "id": "81a39ca8",
   "metadata": {},
   "outputs": [
    {
     "name": "stdout",
     "output_type": "stream",
     "text": [
      "body_text type: <class 'list'>\n",
      "body_text length: 20\n",
      "body_text keys: dict_keys(['text', 'cite_spans', 'ref_spans', 'section'])\n"
     ]
    }
   ],
   "source": [
    "print(\"body_text type:\", type(file['body_text']))\n",
    "print(\"body_text length:\", len(file['body_text']))\n",
    "print(\"body_text keys:\", file['body_text'][0].keys())"
   ]
  },
  {
   "cell_type": "code",
   "execution_count": 178,
   "id": "95017f68",
   "metadata": {},
   "outputs": [
    {
     "name": "stdout",
     "output_type": "stream",
     "text": [
      "body_text content:\n",
      "[{'cite_spans': [],\n",
      "  'ref_spans': [],\n",
      "  'section': '',\n",
      "  'text': 'Disorder and Associated Disabilities Interview Schedule 5 '\n",
      "          '(AUDADIS-5) modules. Following the interview, participants who '\n",
      "          'consented provided a saliva sample.'},\n",
      " {'cite_spans': [{...},\n",
      "                 {...},\n",
      "                 {...},\n",
      "                 {...},\n",
      "                 {...},\n",
      "                 {...},\n",
      "                 {...},\n",
      "                 {...},\n",
      "                 {...},\n",
      "                 {...},\n",
      "                 {...},\n",
      "                 {...},\n",
      "                 {...}],\n",
      "  'ref_spans': [],\n",
      "  'section': '',\n",
      "  'text': 'The NSDUH is sponsored by the Center for Behavioral Health '\n",
      "          'Statistics and Quality office within the Substance Abuse and Mental '\n",
      "          'Health Services Administration. PSUs comprised approximately '\n",
      "          '500,000 area segments (groups of adjacent census blocks). The first '\n",
      "          'stage of sampling involved selection of eight such segments from '\n",
      "          \"each of 900 geographic 'field interviewer' (FI) regions. The frames \"\n",
      "          'for the second stage of sampling consist of lists of all dwelling '\n",
      "          'units within segment boundaries. Samples of dwelling units were '\n",
      "          'selected from these lists. Individuals were selected from rosters '\n",
      "          'obtained by dwelling unit visits. Approximately 700 field '\n",
      "          'interviewers visited homes and collected data from participants. '\n",
      "          'All NSDUH surveys conducted after 1999 utilized a Computer Assisted '\n",
      "          'Interview (CAI) methodology comprising of a core and supplement '\n",
      "          'structure. The core set of questions remain constant from year to '\n",
      "          'year on demographic items and questions pertaining to the use of '\n",
      "          'tobacco, alcohol, marijuana, cocaine, crack cocaine, heroin, '\n",
      "          'hallucinogens, inhalants, pain relievers, tranquilizers, '\n",
      "          'stimulants, and sedatives. The supplement questions can be revised, '\n",
      "          'dropped, or modified from year to year and some have remained '\n",
      "          'constant since their initial use (e.g., health insurance coverage). '\n",
      "          'Responses to sensitive questions were collected using automated '\n",
      "          'computer assisted self-interviewing (ACASI) where participants '\n",
      "          'listened to prerecorded questions through headphones and entered '\n",
      "          'responses directly without assistance of the interviewer. '\n",
      "          'Participants received a $30 incentive for completing the study '\n",
      "          'procedures. Grucza et al. (2007) previously compared estimates from '\n",
      "          'the 2002 NSDUH with estimates from the wave 1 NESARC administered '\n",
      "          'in [2001] [2002] . The authors concluded that prevalence estimates '\n",
      "          'for all substance use outcomes (lifetime, past year, and substance '\n",
      "          'use disorder) were higher in the NSDUH data than the NESARC data in '\n",
      "          'the general population of U.S. adults ages 18 and older. Models '\n",
      "          'adjusting for sex, age, and race/ethnicity suggested differences in '\n",
      "          'estimates existed (.01 < P < .05) but were not thoroughly '\n",
      "          'described. Additionally, it was unclear if unstable estimates were '\n",
      "          'suppressed where necessary according to the NSDUH documentation '\n",
      "          '(Substance Abuse and Mental Health Services Administration 2013). '\n",
      "          'Since then, several studies have uncovered potential differences in '\n",
      "          'substance use estimates across surveys and subpopulations. For '\n",
      "          'example, Ryan et al. (2012) documented differences in current '\n",
      "          'smoking estimates between the NSDUH and NHIS (National Household '\n",
      "          'Interview Survey) with greater sensitivity for differences among '\n",
      "          'Hispanics relative to other groups, and NSDUH estimates being '\n",
      "          'higher, in general. In fact, comparisons using the NSDUH surveys '\n",
      "          'continually demonstrate these data present higher estimates of '\n",
      "          'substance use behavior and mental health indicators in the general '\n",
      "          'population (Grucza et al. 2007; Hedden et al. 2012) . Pemberton et '\n",
      "          'al. (2013) identified discrepanices in estimates of health status '\n",
      "          'and healthcare utilization by age, gender, and race/ethinicity; '\n",
      "          'however, they did not speculate as to why subgroups differed. Only '\n",
      "          'one study (Ryan et al. 2012) , comparing NSDUH and National Health '\n",
      "          'Interview Study (NHIS) estimates on current and daily cigarette '\n",
      "          'smoking identified Hispanic respondents as to have the greatest '\n",
      "          'differences in estimates. The authors speculated that Hispanics may '\n",
      "          'be the most sensitive to differences in smoking variable '\n",
      "          'definitions. No study to date has compared substance use estimates '\n",
      "          'between the NESARC-III and comparable NSDUH survey by demographic '\n",
      "          'subpopulations defined by age, sex, and race/ethnicity. Uncovering '\n",
      "          'differences in substance use prevalence among demographic '\n",
      "          'subpopulations has important implications for policymaking, '\n",
      "          'prevention, intervention, and treatment programming. The current '\n",
      "          'opioid epidemic and accompanying trends of increasing \"deaths of '\n",
      "          'despair\" underscore the importance of obtaining accurate prevalence '\n",
      "          'estimates among demographic subpopulations (Case and Deaton 2015; '\n",
      "          'Monnat et al. 2019) . Without accurate estimates of substance use '\n",
      "          'prevalence and the capability to detect trends of increasing '\n",
      "          'prevalence, it is impossible to recognize population level problems '\n",
      "          'and intervene before increases in mortality occur. Further, '\n",
      "          'uncovering disparities within racial/ethnic groups is important for '\n",
      "          'furthering our understanding of phenomena such as the \"Hispanic '\n",
      "          'paradox\"-lower mortality risk for Hispanic adults relative to their '\n",
      "          'non-Hispanic White peers (Fenelon 2013) . Considering the important '\n",
      "          'role that smoking-attributable mortality plays in the Hispanic '\n",
      "          'paradox (Fenelon 2013) and previous research noting potential '\n",
      "          'discrepancies in cigarette use (Ryan et al. 2012) among Hispanic '\n",
      "          'participants in nationally representative surveys constitutes a '\n",
      "          'continued need to monitor and perform comparative analyses across '\n",
      "          'population studies to uncover important disparities that can impact '\n",
      "          'our ability to conduct rigorous health assessments and draw valid '\n",
      "          'conclusions discerning differences in health outcomes across '\n",
      "          'demographic groups.'}]\n"
     ]
    }
   ],
   "source": [
    "print(\"body_text content:\")\n",
    "pprint(file['body_text'][:2], depth=3)"
   ]
  },
  {
   "cell_type": "code",
   "execution_count": 179,
   "id": "7ea2c7ef",
   "metadata": {},
   "outputs": [
    {
     "name": "stdout",
     "output_type": "stream",
     "text": [
      "['',\n",
      " 'Sample',\n",
      " 'Measures',\n",
      " 'Analysis',\n",
      " 'Results',\n",
      " 'Past Year Alcohol Use Prevalence by Race/Ethnicity, Sex, and Age',\n",
      " 'Past Year Cigarette Use Prevalence by Race/Ethnicity, Sex, and Age',\n",
      " 'Past Year Marijuana Use Prevalence by Race/Ethnicity, Sex, and Age',\n",
      " 'Past Year Non-medical Painkiller Use Prevalence by Race/Ethnicity, Sex, and '\n",
      " 'Age',\n",
      " 'Discussion',\n",
      " 'Limitations']\n"
     ]
    }
   ],
   "source": [
    "texts = [(di['section'], di['text']) for di in file['body_text']]\n",
    "texts_di = {di['section']: \"\" for di in file['body_text']}\n",
    "for section, text in texts:\n",
    "    texts_di[section] += text\n",
    "\n",
    "pprint(list(texts_di.keys()))"
   ]
  },
  {
   "cell_type": "code",
   "execution_count": 180,
   "id": "7a55d843",
   "metadata": {
    "scrolled": true
   },
   "outputs": [
    {
     "name": "stdout",
     "output_type": "stream",
     "text": [
      "\n",
      "\n",
      "Disorder and Associated Disabilities Interview Schedule 5 (AUDADIS-5) modules. Following the interview, participants who consented provided a saliva sample.The NSDUH is sponsored by the Center for Behavioral Health Statistics and Quality office within the Substance Abuse and Mental Health Services Administration. PSUs comprised approximately 500,000 area segments (groups of adjacent census blocks). The first stage of sampling involved selection of eight such segments from each of 900 geographic 'field interviewer' (FI) regions. The frames for the second stage of sampling consist of lists of all dwelling units within segment boundaries. Samples of dwelling units were selected from these lists. Individuals were selected from rosters obtained by dwelling unit visits. Approximately 700 field interviewers visited homes and collected data from participants. All NSDUH surveys conducted after 1999 utilized a Computer Assisted Interview (CAI) methodology comprising of a core and supplement structure. The core set of questions remain constant from year to year on demographic items and questions pertaining to the use of tobacco, alcohol, marijuana, cocaine, crack cocaine, heroin, hallucinogens, inhalants, pain relievers, tranquilizers, stimulants, and sedatives. The supplement questions can be revised, dropped, or modified from year to year and some have remained constant since their initial use (e.g., health insurance coverage). Responses to sensitive questions were collected using automated computer assisted self-interviewing (ACASI) where participants listened to prerecorded questions through headphones and entered responses directly without assistance of the interviewer. Participants received a $30 incentive for completing the study procedures. Grucza et al. (2007) previously compared estimates from the 2002 NSDUH with estimates from the wave 1 NESARC administered in [2001] [2002] . The authors concluded that prevalence estimates for all substance use outcomes (lifetime, past year, and substance use disorder) were higher in the NSDUH data than the NESARC data in the general population of U.S. adults ages 18 and older. Models adjusting for sex, age, and race/ethnicity suggested differences in estimates existed (.01 < P < .05) but were not thoroughly described. Additionally, it was unclear if unstable estimates were suppressed where necessary according to the NSDUH documentation (Substance Abuse and Mental Health Services Administration 2013). Since then, several studies have uncovered potential differences in substance use estimates across surveys and subpopulations. For example, Ryan et al. (2012) documented differences in current smoking estimates between the NSDUH and NHIS (National Household Interview Survey) with greater sensitivity for differences among Hispanics relative to other groups, and NSDUH estimates being higher, in general. In fact, comparisons using the NSDUH surveys continually demonstrate these data present higher estimates of substa\n"
     ]
    }
   ],
   "source": [
    "body = \"\"\n",
    "\n",
    "for section, text in texts_di.items():\n",
    "    body += section\n",
    "    body += \"\\n\\n\"\n",
    "    body += text\n",
    "    body += \"\\n\\n\"\n",
    "\n",
    "print(body[:3000])"
   ]
  },
  {
   "cell_type": "code",
   "execution_count": 181,
   "id": "f0369204",
   "metadata": {},
   "outputs": [],
   "source": [
    "def format_name(author):\n",
    "    middle_name = \" \".join(author['middle'])\n",
    "    \n",
    "    if author['middle']:\n",
    "        return \" \".join([author['first'], middle_name, author['last']])\n",
    "    else:\n",
    "        return \" \".join([author['first'], author['last']])\n",
    "\n",
    "\n",
    "def format_affiliation(affiliation):\n",
    "    text = []\n",
    "    location = affiliation.get('location')\n",
    "    if location:\n",
    "        text.extend(list(affiliation['location'].values()))\n",
    "    \n",
    "    institution = affiliation.get('institution')\n",
    "    if institution:\n",
    "        text = [institution] + text\n",
    "    return \", \".join(text)\n",
    "\n",
    "def format_authors(authors, with_affiliation=False):\n",
    "    name_ls = []\n",
    "    \n",
    "    for author in authors:\n",
    "        name = format_name(author)\n",
    "        if with_affiliation:\n",
    "            affiliation = format_affiliation(author['affiliation'])\n",
    "            if affiliation:\n",
    "                name_ls.append(f\"{name} ({affiliation})\")\n",
    "            else:\n",
    "                name_ls.append(name)\n",
    "        else:\n",
    "            name_ls.append(name)\n",
    "    \n",
    "    return \", \".join(name_ls)\n",
    "\n",
    "def format_body(body_text):\n",
    "    texts = [(di['section'], di['text']) for di in body_text]\n",
    "    texts_di = {di['section']: \"\" for di in body_text}\n",
    "    \n",
    "    for section, text in texts:\n",
    "        texts_di[section] += text\n",
    "\n",
    "    body = \"\"\n",
    "\n",
    "    for section, text in texts_di.items():\n",
    "        body += section\n",
    "        body += \"\\n\\n\"\n",
    "        body += text\n",
    "        body += \"\\n\\n\"\n",
    "    \n",
    "    return body\n",
    "\n",
    "def format_bib(bibs):\n",
    "    if type(bibs) == dict:\n",
    "        bibs = list(bibs.values())\n",
    "    bibs = deepcopy(bibs)\n",
    "    formatted = []\n",
    "    \n",
    "    for bib in bibs:\n",
    "        bib['authors'] = format_authors(\n",
    "            bib['authors'], \n",
    "            with_affiliation=False\n",
    "        )\n",
    "        formatted_ls = [str(bib[k]) for k in ['title', 'authors', 'venue', 'year']]\n",
    "        formatted.append(\", \".join(formatted_ls))\n",
    "\n",
    "    return \"; \".join(formatted)"
   ]
  },
  {
   "cell_type": "code",
   "execution_count": 182,
   "id": "a0e129a2",
   "metadata": {},
   "outputs": [],
   "source": [
    "def load_files(dirname):\n",
    "    filenames = os.listdir(dirname)\n",
    "    raw_files = []\n",
    "\n",
    "    for filename in tqdm(filenames):\n",
    "        filename = dirname + filename\n",
    "        file = json.load(open(filename, 'rb'))\n",
    "        raw_files.append(file)\n",
    "    \n",
    "    return raw_files\n",
    "\n",
    "def generate_clean_df(all_files):\n",
    "    cleaned_files = []\n",
    "    \n",
    "    for file in tqdm(all_files):\n",
    "        features = [\n",
    "            file['paper_id'],\n",
    "            file['metadata']['title'],\n",
    "            format_authors(file['metadata']['authors']),\n",
    "            format_authors(file['metadata']['authors'], \n",
    "                           with_affiliation=True),\n",
    "            format_body(file['abstract']),\n",
    "            format_body(file['body_text']),\n",
    "            format_bib(file['bib_entries']),\n",
    "            file['metadata']['authors'],\n",
    "            file['bib_entries']\n",
    "        ]\n",
    "\n",
    "        cleaned_files.append(features)\n",
    "\n",
    "    col_names = ['paper_id', 'title', 'authors',\n",
    "                 'affiliations', 'abstract', 'text', \n",
    "                 'bibliography','raw_authors','raw_bibliography']\n",
    "\n",
    "    clean_df = pd.DataFrame(cleaned_files, columns=col_names)\n",
    "    clean_df.head()\n",
    "    \n",
    "    return clean_df"
   ]
  },
  {
   "cell_type": "code",
   "execution_count": 183,
   "id": "585595f7",
   "metadata": {},
   "outputs": [
    {
     "name": "stdout",
     "output_type": "stream",
     "text": [
      "\n",
      "\n",
      "Disorder and Associated Disabilities Interview Schedule 5 (AUDADIS-5) modules. Following the interview, participants who consented provided a saliva sample.The NSDUH is sponsored by the Center for Behavioral Health Statistics and Quality office within the Substance Abuse and Mental Health Services Administration. PSUs comprised approximately 500,000 area segments (groups of adjacent census blocks). The first stage of sampling involved selection of eight such segments from each of 900 geographic 'field interviewer' (FI) regions. The frames for the second stage of sampling consist of lists of all dwelling units within segment boundaries. Samples of dwelling units were selected from these lists. Individuals were selected from rosters obtained by dwelling unit visits. Approximately 700 field interviewers visited homes and collected data from participants. All NSDUH surveys conducted after 1999 utilized a Computer Assisted Interview (CAI) methodology comprising of a core and supplement structure. The core set of questions remain constant from year to year on demographic items and questions pertaining to the use of tobacco, alcohol, marijuana, cocaine, crack cocaine, heroin, hallucinogens, inhalants, pain relievers, tranquilizers, stimulants, and sedatives. The supplement questions can be revised, dropped, or modified from year to year and some have remained constant since their initial use (e.g., health insurance coverage). Responses to sensitive questions were collected using automated computer assisted self-interviewing (ACASI) where participants listened to prerecorded questions through headphones and entered responses directly without assistance of the interviewer. Participants received a $30 incentive for completing the study procedures. Grucza et al. (2007) previously compared estimates from the 2002 NSDUH with estimates from the wave 1 NESARC administered in [2001] [2002] . The authors concluded that prevalence estimates for all substance use outcomes (lifetime, past year, and substance use disorder) were higher in the NSDUH data than the NESARC data in the general population of U.S. adults ages 18 and older. Models adjusting for sex, age, and race/ethnicity suggested differences in estimates existed (.01 < P < .05) but were not thoroughly described. Additionally, it was unclear if unstable estimates were suppressed where necessary according to the NSDUH documentation (Substance Abuse and Mental Health Services Administration 2013). Since then, several studies have uncovered potential differences in substance use estimates across surveys and subpopulations. For example, Ryan et al. (2012) documented differences in current smoking estimates between the NSDUH and NHIS (National Household Interview Survey) with greater sensitivity for differences among Hispanics relative to other groups, and NSDUH estimates being higher, in general. In fact, comparisons using the NSDUH surveys continually demonstrate these data present higher estimates of substa\n"
     ]
    }
   ],
   "source": [
    "print(format_body(file['body_text'])[:3000])"
   ]
  },
  {
   "cell_type": "code",
   "execution_count": 184,
   "id": "581bdf64",
   "metadata": {},
   "outputs": [
    {
     "name": "stdout",
     "output_type": "stream",
     "text": [
      "dict_keys(['title', 'authors'])\n"
     ]
    }
   ],
   "source": [
    "print(all_files[0]['metadata'].keys())"
   ]
  },
  {
   "cell_type": "code",
   "execution_count": 185,
   "id": "7b415a71",
   "metadata": {},
   "outputs": [
    {
     "name": "stdout",
     "output_type": "stream",
     "text": [
      "Comparison of Past Year Substance Use Estimates by Age, Sex, and Race/Ethnicity Between Two Representative Samples of the U.S. Adult Population\n"
     ]
    }
   ],
   "source": [
    "print(all_files[0]['metadata']['title'])"
   ]
  },
  {
   "cell_type": "code",
   "execution_count": 186,
   "id": "210ae2ee",
   "metadata": {},
   "outputs": [
    {
     "name": "stdout",
     "output_type": "stream",
     "text": [
      "[{'affiliation': {'institution': 'University of Nevada',\n",
      "                  'laboratory': '',\n",
      "                  'location': {'addrLine': 'Las Vegas, 4505 S. Maryland Pkwy, '\n",
      "                                           'Las Vegas',\n",
      "                               'country': 'USA',\n",
      "                               'postCode': '89154',\n",
      "                               'region': 'NV'}},\n",
      "  'email': 'timothy.grigsby@unlv.edu',\n",
      "  'first': 'Timothy',\n",
      "  'last': 'Grigsby',\n",
      "  'middle': ['J'],\n",
      "  'suffix': ''},\n",
      " {'affiliation': {'institution': 'Texas State University',\n",
      "                  'laboratory': '',\n",
      "                  'location': {'addrLine': '601 University Dr',\n",
      "                               'country': 'USA',\n",
      "                               'postCode': '78666',\n",
      "                               'region': 'TX',\n",
      "                               'settlement': 'San Marcos'}},\n",
      "  'email': '',\n",
      "  'first': 'Krista',\n",
      "  'last': 'Howard',\n",
      "  'middle': [],\n",
      "  'suffix': ''},\n",
      " {'affiliation': {'institution': 'One UTSA Cir',\n",
      "                  'laboratory': '',\n",
      "                  'location': {'country': 'USA',\n",
      "                               'postCode': '78249',\n",
      "                               'region': 'TX',\n",
      "                               'settlement': 'San Antonio'}},\n",
      "  'email': '',\n",
      "  'first': 'Jeffrey',\n",
      "  'last': 'Howard',\n",
      "  'middle': ['T'],\n",
      "  'suffix': ''}]\n"
     ]
    }
   ],
   "source": [
    "authors = all_files[0]['metadata']['authors']\n",
    "pprint(authors[:3])"
   ]
  },
  {
   "cell_type": "code",
   "execution_count": 187,
   "id": "d20c22e7",
   "metadata": {},
   "outputs": [
    {
     "name": "stdout",
     "output_type": "stream",
     "text": [
      "Name: Timothy J Grigsby\n",
      "Affiliation: University of Nevada, Las Vegas, 4505 S. Maryland Pkwy, Las Vegas, 89154, NV, USA\n",
      "\n",
      "Name: Krista Howard\n",
      "Affiliation: Texas State University, 601 University Dr, 78666, San Marcos, TX, USA\n",
      "\n",
      "Name: Jeffrey T Howard\n",
      "Affiliation: One UTSA Cir, 78249, San Antonio, TX, USA\n",
      "\n"
     ]
    }
   ],
   "source": [
    "for author in authors:\n",
    "    print(\"Name:\", format_name(author))\n",
    "    print(\"Affiliation:\", format_affiliation(author['affiliation']))\n",
    "    print()"
   ]
  },
  {
   "cell_type": "code",
   "execution_count": 188,
   "id": "fb2c781e",
   "metadata": {},
   "outputs": [
    {
     "name": "stdout",
     "output_type": "stream",
     "text": [
      "{'authors': [], 'title': ''}\n"
     ]
    }
   ],
   "source": [
    "pprint(all_files[1]['metadata'], depth=4)"
   ]
  },
  {
   "cell_type": "code",
   "execution_count": 189,
   "id": "b439a2ac",
   "metadata": {},
   "outputs": [
    {
     "name": "stdout",
     "output_type": "stream",
     "text": [
      "Formatting without affiliation:\n",
      "\n",
      "\n",
      "Formatting with affiliation:\n",
      "\n"
     ]
    }
   ],
   "source": [
    "authors = all_files[1]['metadata']['authors']\n",
    "print(\"Formatting without affiliation:\")\n",
    "print(format_authors(authors, with_affiliation=False))\n",
    "print(\"\\nFormatting with affiliation:\")\n",
    "print(format_authors(authors, with_affiliation=True))"
   ]
  },
  {
   "cell_type": "code",
   "execution_count": 190,
   "id": "b46d7b20",
   "metadata": {},
   "outputs": [
    {
     "name": "stdout",
     "output_type": "stream",
     "text": [
      "[{'authors': [{'first': 'D', 'last': 'Albright', 'middle': [...], 'suffix': ''},\n",
      "              {'first': 'L', 'last': 'Holmes', 'middle': [], 'suffix': ''},\n",
      "              {'first': 'M', 'last': 'Lawson', 'middle': [], 'suffix': ''},\n",
      "              {'first': 'J', 'last': 'Mcdaniel', 'middle': [], 'suffix': ''},\n",
      "              {'first': 'K', 'last': 'Laha-Walsh', 'middle': [], 'suffix': ''},\n",
      "              {'first': 'S', 'last': 'Mcintosh', 'middle': [], 'suffix': ''}],\n",
      "  'issn': '',\n",
      "  'other_ids': {},\n",
      "  'pages': '1--13',\n",
      "  'ref_id': 'b0',\n",
      "  'title': 'Veteran-nonveteran differences in alcohol and drug misuse by '\n",
      "           'tobacco use status in Alabama SBIRT',\n",
      "  'venue': 'Journal of Social Work Practice int he Addictions',\n",
      "  'volume': '20',\n",
      "  'year': 2019},\n",
      " {'authors': [{'first': 'K', 'last': 'Berry', 'middle': [...], 'suffix': ''},\n",
      "              {'first': 'J',\n",
      "               'last': 'Fetterman',\n",
      "               'middle': [...],\n",
      "               'suffix': ''},\n",
      "              {'first': 'E', 'last': 'Benjamin', 'middle': [...], 'suffix': ''},\n",
      "              {'first': 'A', 'last': 'Bhatnagar', 'middle': [], 'suffix': ''},\n",
      "              {'first': 'J',\n",
      "               'last': 'Barrington-Trimis',\n",
      "               'middle': [...],\n",
      "               'suffix': ''},\n",
      "              {'first': 'A',\n",
      "               'last': 'Leventhal',\n",
      "               'middle': [...],\n",
      "               'suffix': ''},\n",
      "              {'first': 'A', 'last': 'Stokes', 'middle': [], 'suffix': ''}],\n",
      "  'issn': '2',\n",
      "  'other_ids': {},\n",
      "  'pages': '187794--187794',\n",
      "  'ref_id': 'b1',\n",
      "  'title': 'Association of electronic cigarette use with subsequent initiation '\n",
      "           'of tobacco cigarettes in US youths',\n",
      "  'venue': 'JAMA Network Open',\n",
      "  'volume': '2',\n",
      "  'year': 2019}]\n"
     ]
    }
   ],
   "source": [
    "bibs = list(file['bib_entries'].values())\n",
    "pprint(bibs[:2], depth=4)"
   ]
  },
  {
   "cell_type": "code",
   "execution_count": 191,
   "id": "d485b7c3",
   "metadata": {},
   "outputs": [
    {
     "data": {
      "text/plain": [
       "'K M Berry, J L Fetterman, E J Benjamin, A Bhatnagar, J L Barrington-Trimis, A M Leventhal, A Stokes'"
      ]
     },
     "execution_count": 191,
     "metadata": {},
     "output_type": "execute_result"
    }
   ],
   "source": [
    "format_authors(bibs[1]['authors'], with_affiliation=False)"
   ]
  },
  {
   "cell_type": "code",
   "execution_count": 192,
   "id": "d6711120",
   "metadata": {},
   "outputs": [
    {
     "name": "stdout",
     "output_type": "stream",
     "text": [
      "Veteran-nonveteran differences in alcohol and drug misuse by tobacco use status in Alabama SBIRT, D L Albright, L Holmes, M Lawson, J Mcdaniel, K Laha-Walsh, S Mcintosh, Journal of Social Work Practice int he Addictions, 2019; Association of electronic cigarette use with subsequent initiation of tobacco cigarettes in US youths, K M Berry, J L Fetterman, E J Benjamin, A Bhatnagar, J L Barrington-Trimis, A M Leventhal, A Stokes, JAMA Network Open, 2019; Prevalence of cardiovascular risk factors in the population of Vitória according to data from VIGITEL and the National health interview survey of 2013, M V Borgo, E B Pimentel, M P Baldo, J B D Souza, D C Malta, J G Mill, , 2019; Marijuana use from adolescence to adulthood: Developmental trajectories and their outcomes, J S Brook, C Zhang, C G Leukefeld, D W Brook, Social Psychiatry and Psychiatric Epidemiology, 2016; Rising morbidity and mortality in midlife among white non-Hispanic Americans in the 21st century, A Case, A Deaton, Proceedings of the National Academy of Sciences, 2015\n"
     ]
    }
   ],
   "source": [
    "bib_formatted = format_bib(bibs[:5])\n",
    "print(bib_formatted)"
   ]
  },
  {
   "cell_type": "code",
   "execution_count": 193,
   "id": "cfc3a763",
   "metadata": {},
   "outputs": [
    {
     "data": {
      "application/vnd.jupyter.widget-view+json": {
       "model_id": "ff3eb7dd71b04b68b92481a0b942b55f",
       "version_major": 2,
       "version_minor": 0
      },
      "text/plain": [
       "  0%|          | 0/3000 [00:00<?, ?it/s]"
      ]
     },
     "metadata": {},
     "output_type": "display_data"
    }
   ],
   "source": [
    "cleaned_files = []\n",
    "\n",
    "for file in tqdm(all_files):\n",
    "    features = [\n",
    "        file['paper_id'],\n",
    "        file['metadata']['title'],\n",
    "        format_authors(file['metadata']['authors']),\n",
    "        format_authors(file['metadata']['authors'], \n",
    "                       with_affiliation=True),\n",
    "        format_body(file['abstract']),\n",
    "        format_body(file['body_text']),\n",
    "        format_bib(file['bib_entries']),\n",
    "        file['metadata']['authors'],\n",
    "        file['bib_entries']\n",
    "    ]\n",
    "    \n",
    "    cleaned_files.append(features)"
   ]
  },
  {
   "cell_type": "code",
   "execution_count": 194,
   "id": "ede7bc33",
   "metadata": {},
   "outputs": [
    {
     "data": {
      "text/html": [
       "<div>\n",
       "<style scoped>\n",
       "    .dataframe tbody tr th:only-of-type {\n",
       "        vertical-align: middle;\n",
       "    }\n",
       "\n",
       "    .dataframe tbody tr th {\n",
       "        vertical-align: top;\n",
       "    }\n",
       "\n",
       "    .dataframe thead th {\n",
       "        text-align: right;\n",
       "    }\n",
       "</style>\n",
       "<table border=\"1\" class=\"dataframe\">\n",
       "  <thead>\n",
       "    <tr style=\"text-align: right;\">\n",
       "      <th></th>\n",
       "      <th>paper_id</th>\n",
       "      <th>title</th>\n",
       "      <th>authors</th>\n",
       "      <th>affiliations</th>\n",
       "      <th>abstract</th>\n",
       "      <th>text</th>\n",
       "      <th>bibliography</th>\n",
       "      <th>raw_authors</th>\n",
       "      <th>raw_bibliography</th>\n",
       "    </tr>\n",
       "  </thead>\n",
       "  <tbody>\n",
       "    <tr>\n",
       "      <th>0</th>\n",
       "      <td>d21264a0ff5e40019e30d40f569ea8033fb3103e</td>\n",
       "      <td>Comparison of Past Year Substance Use Estimate...</td>\n",
       "      <td>Timothy J Grigsby, Krista Howard, Jeffrey T Ho...</td>\n",
       "      <td>Timothy J Grigsby (University of Nevada, Las V...</td>\n",
       "      <td>Abstract\\n\\nComparative evaluations of nationa...</td>\n",
       "      <td>\\n\\nDisorder and Associated Disabilities Inter...</td>\n",
       "      <td>Veteran-nonveteran differences in alcohol and ...</td>\n",
       "      <td>[{'first': 'Timothy', 'middle': ['J'], 'last':...</td>\n",
       "      <td>{'BIBREF0': {'ref_id': 'b0', 'title': 'Veteran...</td>\n",
       "    </tr>\n",
       "    <tr>\n",
       "      <th>1</th>\n",
       "      <td>304a6f893c12b837b18908ead759245d221b2087</td>\n",
       "      <td></td>\n",
       "      <td></td>\n",
       "      <td></td>\n",
       "      <td>Abstract\\n\\nObjective: To compare\\n\\n</td>\n",
       "      <td>Introduction\\n\\nDespite advances in critical c...</td>\n",
       "      <td>Has the mortality of septic shock changed with...</td>\n",
       "      <td>[]</td>\n",
       "      <td>{'BIBREF0': {'ref_id': 'b0', 'title': 'Has the...</td>\n",
       "    </tr>\n",
       "    <tr>\n",
       "      <th>2</th>\n",
       "      <td>a3938d39f4b153cbf361d2846a77ff205cddb8dc</td>\n",
       "      <td>Oligomers of hepatitis A virus (HAV) capsid pr...</td>\n",
       "      <td>Anshu Nain, Mohit Kumar, Manidipa Banerjee</td>\n",
       "      <td>Anshu Nain, Mohit Kumar, Manidipa Banerjee</td>\n",
       "      <td>Abstract\\n\\nBackground: The quasi-enveloped pi...</td>\n",
       "      <td>\\n\\nHepatitis A Virus (HAV), the causative age...</td>\n",
       "      <td>Enhanced papillomaviruslike particle productio...</td>\n",
       "      <td>[{'first': 'Anshu', 'middle': [], 'last': 'Nai...</td>\n",
       "      <td>{'BIBREF0': {'ref_id': 'b0', 'title': 'Enhance...</td>\n",
       "    </tr>\n",
       "    <tr>\n",
       "      <th>3</th>\n",
       "      <td>753e17836a2d144c691656b111e4985eeecae427</td>\n",
       "      <td>SARS-COV-2 Omicron variant predicted to exhibi...</td>\n",
       "      <td>Adam Zemla, Thomas Desautels, Edmond Y Lau, Fa...</td>\n",
       "      <td>Adam Zemla, Thomas Desautels, Edmond Y Lau, Fa...</td>\n",
       "      <td>Abstract\\n\\nRapid assessment of whether a pand...</td>\n",
       "      <td>Background\\n\\nThe recently emerged Omicron var...</td>\n",
       "      <td>Modeling structurally variable regions in homo...</td>\n",
       "      <td>[{'first': 'Adam', 'middle': [], 'last': 'Zeml...</td>\n",
       "      <td>{'BIBREF0': {'ref_id': 'b0', 'title': 'Modelin...</td>\n",
       "    </tr>\n",
       "    <tr>\n",
       "      <th>4</th>\n",
       "      <td>70795243242f5e78ea123784f9e9b5dc19429257</td>\n",
       "      <td></td>\n",
       "      <td>Martin J Tobin, Amal Jubran, M D Franco,  Hine...</td>\n",
       "      <td>Martin J Tobin, Amal Jubran, M D Franco,  Hine...</td>\n",
       "      <td></td>\n",
       "      <td>\\n\\nselected in a post hoc manner-a step known...</td>\n",
       "      <td>The respiratory drive: an overlooked tile of C...</td>\n",
       "      <td>[{'first': 'Martin', 'middle': ['J'], 'last': ...</td>\n",
       "      <td>{'BIBREF0': {'ref_id': 'b0', 'title': 'The res...</td>\n",
       "    </tr>\n",
       "  </tbody>\n",
       "</table>\n",
       "</div>"
      ],
      "text/plain": [
       "                                   paper_id  \\\n",
       "0  d21264a0ff5e40019e30d40f569ea8033fb3103e   \n",
       "1  304a6f893c12b837b18908ead759245d221b2087   \n",
       "2  a3938d39f4b153cbf361d2846a77ff205cddb8dc   \n",
       "3  753e17836a2d144c691656b111e4985eeecae427   \n",
       "4  70795243242f5e78ea123784f9e9b5dc19429257   \n",
       "\n",
       "                                               title  \\\n",
       "0  Comparison of Past Year Substance Use Estimate...   \n",
       "1                                                      \n",
       "2  Oligomers of hepatitis A virus (HAV) capsid pr...   \n",
       "3  SARS-COV-2 Omicron variant predicted to exhibi...   \n",
       "4                                                      \n",
       "\n",
       "                                             authors  \\\n",
       "0  Timothy J Grigsby, Krista Howard, Jeffrey T Ho...   \n",
       "1                                                      \n",
       "2         Anshu Nain, Mohit Kumar, Manidipa Banerjee   \n",
       "3  Adam Zemla, Thomas Desautels, Edmond Y Lau, Fa...   \n",
       "4  Martin J Tobin, Amal Jubran, M D Franco,  Hine...   \n",
       "\n",
       "                                        affiliations  \\\n",
       "0  Timothy J Grigsby (University of Nevada, Las V...   \n",
       "1                                                      \n",
       "2         Anshu Nain, Mohit Kumar, Manidipa Banerjee   \n",
       "3  Adam Zemla, Thomas Desautels, Edmond Y Lau, Fa...   \n",
       "4  Martin J Tobin, Amal Jubran, M D Franco,  Hine...   \n",
       "\n",
       "                                            abstract  \\\n",
       "0  Abstract\\n\\nComparative evaluations of nationa...   \n",
       "1              Abstract\\n\\nObjective: To compare\\n\\n   \n",
       "2  Abstract\\n\\nBackground: The quasi-enveloped pi...   \n",
       "3  Abstract\\n\\nRapid assessment of whether a pand...   \n",
       "4                                                      \n",
       "\n",
       "                                                text  \\\n",
       "0  \\n\\nDisorder and Associated Disabilities Inter...   \n",
       "1  Introduction\\n\\nDespite advances in critical c...   \n",
       "2  \\n\\nHepatitis A Virus (HAV), the causative age...   \n",
       "3  Background\\n\\nThe recently emerged Omicron var...   \n",
       "4  \\n\\nselected in a post hoc manner-a step known...   \n",
       "\n",
       "                                        bibliography  \\\n",
       "0  Veteran-nonveteran differences in alcohol and ...   \n",
       "1  Has the mortality of septic shock changed with...   \n",
       "2  Enhanced papillomaviruslike particle productio...   \n",
       "3  Modeling structurally variable regions in homo...   \n",
       "4  The respiratory drive: an overlooked tile of C...   \n",
       "\n",
       "                                         raw_authors  \\\n",
       "0  [{'first': 'Timothy', 'middle': ['J'], 'last':...   \n",
       "1                                                 []   \n",
       "2  [{'first': 'Anshu', 'middle': [], 'last': 'Nai...   \n",
       "3  [{'first': 'Adam', 'middle': [], 'last': 'Zeml...   \n",
       "4  [{'first': 'Martin', 'middle': ['J'], 'last': ...   \n",
       "\n",
       "                                    raw_bibliography  \n",
       "0  {'BIBREF0': {'ref_id': 'b0', 'title': 'Veteran...  \n",
       "1  {'BIBREF0': {'ref_id': 'b0', 'title': 'Has the...  \n",
       "2  {'BIBREF0': {'ref_id': 'b0', 'title': 'Enhance...  \n",
       "3  {'BIBREF0': {'ref_id': 'b0', 'title': 'Modelin...  \n",
       "4  {'BIBREF0': {'ref_id': 'b0', 'title': 'The res...  "
      ]
     },
     "execution_count": 194,
     "metadata": {},
     "output_type": "execute_result"
    }
   ],
   "source": [
    "col_names = [\n",
    "    'paper_id', \n",
    "    'title', \n",
    "    'authors',\n",
    "    'affiliations', \n",
    "    'abstract', \n",
    "    'text', \n",
    "    'bibliography',\n",
    "    'raw_authors',\n",
    "    'raw_bibliography'\n",
    "]\n",
    "\n",
    "clean_df = pd.DataFrame(cleaned_files, columns=col_names)\n",
    "clean_df.head()"
   ]
  },
  {
   "cell_type": "code",
   "execution_count": 195,
   "id": "25f90026",
   "metadata": {},
   "outputs": [],
   "source": [
    "clean_df.to_csv('consolidatedData.csv', index=False)"
   ]
  },
  {
   "cell_type": "code",
   "execution_count": 76,
   "id": "4c7e87f9",
   "metadata": {},
   "outputs": [],
   "source": [
    "consolidatedData = pd.read_csv('/Users/swathipathaikara/Desktop/DCSI/Optimization/consolidatedData.csv')"
   ]
  },
  {
   "cell_type": "code",
   "execution_count": 77,
   "id": "c140bbec",
   "metadata": {},
   "outputs": [
    {
     "data": {
      "text/html": [
       "<div>\n",
       "<style scoped>\n",
       "    .dataframe tbody tr th:only-of-type {\n",
       "        vertical-align: middle;\n",
       "    }\n",
       "\n",
       "    .dataframe tbody tr th {\n",
       "        vertical-align: top;\n",
       "    }\n",
       "\n",
       "    .dataframe thead th {\n",
       "        text-align: right;\n",
       "    }\n",
       "</style>\n",
       "<table border=\"1\" class=\"dataframe\">\n",
       "  <thead>\n",
       "    <tr style=\"text-align: right;\">\n",
       "      <th></th>\n",
       "      <th>paper_id</th>\n",
       "      <th>title</th>\n",
       "      <th>authors</th>\n",
       "      <th>affiliations</th>\n",
       "      <th>abstract</th>\n",
       "      <th>text</th>\n",
       "      <th>bibliography</th>\n",
       "      <th>raw_authors</th>\n",
       "      <th>raw_bibliography</th>\n",
       "    </tr>\n",
       "  </thead>\n",
       "  <tbody>\n",
       "    <tr>\n",
       "      <th>0</th>\n",
       "      <td>0a97df6b17b88938b88b59380308cb320d19fa83</td>\n",
       "      <td>Effects of biopsychosocial factors on the asso...</td>\n",
       "      <td>Olga Megalakaki, Cyrille Kossigan Kokou-Kpolou</td>\n",
       "      <td>Olga Megalakaki, Cyrille Kossigan Kokou-Kpolou</td>\n",
       "      <td>Abstract\\n\\nPrevious data suggest that lonelin...</td>\n",
       "      <td>Introduction\\n\\nOn 24 January 2020, the first ...</td>\n",
       "      <td>Prospective relations between loneliness in di...</td>\n",
       "      <td>[{'first': 'Olga', 'middle': [], 'last': 'Mega...</td>\n",
       "      <td>{'BIBREF0': {'ref_id': 'b0', 'title': 'Prospec...</td>\n",
       "    </tr>\n",
       "    <tr>\n",
       "      <th>1</th>\n",
       "      <td>0aa4c649e5325587a19af4fd234a308314283ae6</td>\n",
       "      <td>NaN</td>\n",
       "      <td>Cheng-Wen Lin, Szu-Hao Kung, Jean Jacques, Van...</td>\n",
       "      <td>Cheng-Wen Lin, Szu-Hao Kung, Jean Jacques, Van...</td>\n",
       "      <td>Abstract\\n\\nCitation: Zhang, F.; He, P.; Rodri...</td>\n",
       "      <td>Introduction\\n\\nThe ongoing COVID-19 pandemic,...</td>\n",
       "      <td>WHO. Tracking SARS-CoV-2 Variants, , , 2022; G...</td>\n",
       "      <td>[{'first': 'Cheng-Wen', 'middle': [], 'last': ...</td>\n",
       "      <td>{'BIBREF0': {'ref_id': 'b0', 'title': 'WHO. Tr...</td>\n",
       "    </tr>\n",
       "  </tbody>\n",
       "</table>\n",
       "</div>"
      ],
      "text/plain": [
       "                                   paper_id  \\\n",
       "0  0a97df6b17b88938b88b59380308cb320d19fa83   \n",
       "1  0aa4c649e5325587a19af4fd234a308314283ae6   \n",
       "\n",
       "                                               title  \\\n",
       "0  Effects of biopsychosocial factors on the asso...   \n",
       "1                                                NaN   \n",
       "\n",
       "                                             authors  \\\n",
       "0     Olga Megalakaki, Cyrille Kossigan Kokou-Kpolou   \n",
       "1  Cheng-Wen Lin, Szu-Hao Kung, Jean Jacques, Van...   \n",
       "\n",
       "                                        affiliations  \\\n",
       "0     Olga Megalakaki, Cyrille Kossigan Kokou-Kpolou   \n",
       "1  Cheng-Wen Lin, Szu-Hao Kung, Jean Jacques, Van...   \n",
       "\n",
       "                                            abstract  \\\n",
       "0  Abstract\\n\\nPrevious data suggest that lonelin...   \n",
       "1  Abstract\\n\\nCitation: Zhang, F.; He, P.; Rodri...   \n",
       "\n",
       "                                                text  \\\n",
       "0  Introduction\\n\\nOn 24 January 2020, the first ...   \n",
       "1  Introduction\\n\\nThe ongoing COVID-19 pandemic,...   \n",
       "\n",
       "                                        bibliography  \\\n",
       "0  Prospective relations between loneliness in di...   \n",
       "1  WHO. Tracking SARS-CoV-2 Variants, , , 2022; G...   \n",
       "\n",
       "                                         raw_authors  \\\n",
       "0  [{'first': 'Olga', 'middle': [], 'last': 'Mega...   \n",
       "1  [{'first': 'Cheng-Wen', 'middle': [], 'last': ...   \n",
       "\n",
       "                                    raw_bibliography  \n",
       "0  {'BIBREF0': {'ref_id': 'b0', 'title': 'Prospec...  \n",
       "1  {'BIBREF0': {'ref_id': 'b0', 'title': 'WHO. Tr...  "
      ]
     },
     "execution_count": 77,
     "metadata": {},
     "output_type": "execute_result"
    }
   ],
   "source": [
    "consolidatedData.head(2)"
   ]
  },
  {
   "cell_type": "code",
   "execution_count": 78,
   "id": "7aeeb090",
   "metadata": {
    "scrolled": true
   },
   "outputs": [
    {
     "data": {
      "text/plain": [
       "'Introduction\\n\\nOn 24 January 2020, the first official COVID-19 cases were announced in France. By January 2021, France had become the third most affected European country in terms of COVID-19 cases and deaths. In response to successive outbreaks, the French Government has imposed strict public health measures, including a total national lockdown during the first outbreak, when universities, and nonessential businesses had to close, and sports, religious and cultural events were cancelled. In addition to public health measures, social distancing has become the main policy in terms of public behaviour. Research has shown that even though public health measures like these are necessary to curb the rapid worldwide spread of the virus, they have affected the psychological wellbeing and mental health of large portions of the world\\'s populations (Brooks et al., 2020) . Meta-analytic findings have revealed high prevalence rates of severe mental health conditions, including posttraumatic stress disorder, anxiety, depressive symptoms, and sleep problems among COVID-19 survivors, healthcare workers, and the general public Marvaldi et al., 2021) . The unknowns and uncertainties surrounding the timeline of the pandemic are additional sources of overwhelming stress and worry (Paluszek et al., 2021; Peng et al., 2021) . Furthermore, the immediate COVID-19-induced stress during the first outbreak was found to predict subsequent development of mental health and behavioural risks (Megalakaki et al., 2021) .\\n\\nLoneliness and Mental Health Issues COVID-19 Pandemic\\n\\nResearchers have argued that the subjective loneliness resulting from social distancing and stay-at-or working-from-home arrangements is a hallmark of the mental health problems caused by the SARS-CoV-2 pandemic (Jeste et al., 2020; Saltzman et al., 2020) . Although some studies have reported stable levels of loneliness (Bu et al., 2020a; Luchetti et al., 2020) , most available data show statistically significant increases in loneliness levels during national lockdowns and compared with prepandemic levels (Killgore et al., 2020a (Killgore et al., , 2020b (Killgore et al., , 2020c McGinty et al., 2020) .Over the years, associations between loneliness and physical and mental health problems, as well as impaired cognitive functioning and mortality risks, have been extensively documented (Beutel et al., 2017; Hawkley & Cacioppo, 2010; Holt-Lunstad et al., 2015; Lara et al., 2020; Leigh-Hunt et al., 2017; Lim et al., 2020; Solmi et al., 2020) . With a few exceptions, studies of individuals across the lifespan have shown that loneliness is particularly prevalent among females, younger and elderly people (U-shaped curve), the jobless, single people, and people with mental and chronic physical health conditions (Hawkley & Cacioppo, 2010; Solmi et al., 2020) .In the context of the COVID-19 crisis, research indicates that greater loneliness is positively associated with greater anxiety and depressive symptoms (Killgore et al., 2020a; Okruszek et al., 2020; Palgi et al., 2020; Tso & Park, 2020) , suicidal ideation (Killgore et al., 2020a) , sleep problems (Grossman et al., 2021; Kokou-Kpolou et al., 2020a) , and signs of psychosis risk (Tso & Park, 2020) . In adult samples in the United Kingdom, two studies (Bu et al., 2020b; Groarke et al., 2020) found high loneliness levels in young people, people on lower incomes, the economically inactive, and people with mental health conditions. Furthermore, Groarke et al. (2020) reported that living with others or in a rural area, and having more close friends or greater social support were protective factors. Findings for sex-related differences are mixed (Bu et al., 2020b; Groarke et al., 2020; Wickens et al., 2021) . In a German adult sample, Buecker et al. (2020) found that daily loneliness increased more strongly for parents than for people without children. However, these studies did not examine the interactions between loneliness and these group factors in relation to mental health problems. A study conducted in Israel by Grossman et al. (2021) reported that sleep problems are associated with the loneliness-worry interaction, with lonely individuals with higher levels of worry about the pandemic reporting severe sleep problems.\\n\\nWorry about COVID-19 Crisis and Mental Health Problems\\n\\nA number of studies have established that worry about COVID-19, including fear about the future and fear of contracting the virus, as well as economic and health concerns, is associated with poor mental health and behavioural problems (Kämpfen et al., 2020) . Worry can be conceptualized as a negatively valenced perseverative cognition or repetitive thoughts focused on sources of potential threat and oriented toward the future (Borkovec et al., 1983) . According to these authors, \"The worry process represents an attempt to engage in mental problem-solving on an issue whose outcome is uncertain but contains the possibility of one or more negative outcomes\" (Borkovec et al., 1983, p. 10) .As process that cuts across specific clinical syndromes (Kircanski et al., 2015) , worry is often associated with health problems (Brosschot et al., 2006; Clancy et al., 2020) . Recent research suggests that perseverative cognition (i.e., worry and rumination) moderates the stress -sleep relationship (Tousignant et al., 2019) . A longitudinal study revealed that metacognitive beliefs and worry mediate the relationship between different forms of loneliness (i.e., in family, romantic and social relationships) and both anxiety and depressive symptoms (Anyan et al., 2020) . Recent evidence also suggests that worry about the COVID crisis mediates the association between perceived vulnerability to COVID-19 and posttraumatic stress (Boyraz et al., 2020) . Consistent with these emerging data, we hypothesized that in addition to its moderating effect, worry about the COVID-19 crisis mediates the pathways from loneliness to mental health and behavioural problems.\\n\\nOverview of the Present Study and Research Questions\\n\\nTaken together, the above-mentioned studies suggest that loneliness in the unfolding pandemic situation is associated with a variety of psychopathologies, but not necessarily in a uniform way across different sociodemographic groups. However, there is still a clear lack of empirical knowledge about the interactions between loneliness and these group factors in relation to mental health problems in the current COVID-19 literature, and closing this lacuna would allow the development of evidence-based health interventions for specific vulnerable groups. Researchers have made some recommendations for tackling prolonged self-isolation and loneliness during the SARS-CoV-2 pandemic, based on previous studies conducted in a nonepidemic context (Beam & Kim, 2020) . However, it is still unclear just how relevant these recommendations are for vulnerable individuals with mental health concerns induced by the pandemic. In addition, emerging data suggest that loneliness has a differential impact on adverse health outcomes in different age groups, with changes in loneliness during the pandemic accounting for much of the increase in depressive symptoms -but not anxiety -among young adults (Bu et al., 2020b; Lee et al., 2020) . Therefore, it is highly worthwhile using multiple mental health outcome assessments to gain an in-depth view of potential differences in the health consequences of loneliness across different sociodemographic groups during the pandemic.To address these issues, we used data collected during the first nationwide lockdown in France to examine the associations between loneliness and three mental health and behavioural outcomes, namely anxiety, depressive symptoms, and insomnia. Of utmost interest, we investigated biopsychosocial factors that might moderate or mediate these associations. Based on previous studies (Bu et al., 2020a; Buecker et al., 2020; Groarke et al., 2020; Grossman et al., 2021; Hawkley et al., 2020) , we considered 10 potential biopsychosocial factors: sex, age, place of residence, working arrangements, living conditions, marital status, presence of children, preexisting physical or mental health conditions, and COVID-related worry. Three primary research questions were addressed:1. Is loneliness associated with anxiety, depressive symptoms, and insomnia? 2. Is there any evidence that the relationships between loneliness and the three mental health and behavioural outcomes are moderated by the selected biopsychosocial factors? 3. Is there any evidence that these relationships are mediated by worry about the COVID-19 crisis?\\n\\nData Collection and Ethics\\n\\nTo answer the primary research questions, this study used the cross-sectional and observational data which were collected in France between three and 16 May 2020. The details on the data source and methodology can be found in the previous article by Kokou-Kpolou et al. (2020b) which aimed at examining the prevalence and correlates of insomnia. To administer a survey through SurveyMonkey®, a secure online survey platform, the study used a nonprobability sampling strategy. Potential participants aged 18 years and above were invited to take part via social media, online advertising, community websites, and students\\' online newsletters. The study protocol adhered to the guidelines of the Declaration of Helsinki and its later revisions, and was approved by the Ethics Committee of the Faculty of Psychotherapy and the Faculty of Psychology, S i g m u n d F r e u d U n i v e r s i t y -P a r i s (LBP2CFYKAO1BEX87902). Accordingly, after being informed about the purpose and nature of the study, participants gave their electronic informed consent as a condition for taking part. They were also informed about their right to withdraw from the study at any time without any justification. They all participated on a voluntary basis and did not receive any financial compensation.Given the unknown targeted population size and the convenience sampling method used, the minimum required sample was set at 384 participants (Cochran, 1977) . However, following the recommendation by Cohen et al. (2014) , we expected a minimum sample size of 403 for computing power for regression coefficients and detecting the mediated effects (Fritz & MacKinnon, 2007) .\\n\\nParticipants\\n\\nA total of 559 participants registered to take part, but three were excluded owing to spurious data (i.e., straight-line responses to closed measures). The final sample therefore comprised 556 adults (75.5% female; M age = 30.06 years, SD = 14.38) and was considered adequate for the present analyses. The majority of participants (88.7%) had a university education. The sample was composed of 52% university students, 38.1% full-or parttime employees, and 9.9% unemployed or retired. Regarding marital status, 46.2% were single, 50.2% were married or in a couple, and 3.6% were divorced or widowed, while 78.1% had no children, and 21.9% had one or more children. Nearly 17% reported medical or psychological antecedents. The majority of the participants (80%) lived in an urban environment (town of more than 10,000 inhabitants). See Table 1 for detail of participants characteristics.\\n\\nOutcome Measures\\n\\nAnxiety and Depressive Symptoms We used the Generalized Anxiety Disorder-7 (GAD-7; Spitzer et al., 2006) and the Patient Health Questionnaire (PHQ-9; Kroeke & Spitzer, 2002) to measure anxiety and depressive symptoms experienced over the previous 2 weeks. In both measures, each item was rated on a 4-point Likert scale ranging from 0 (Not at all) to 3 (Almost every day). Possible scores ranged from 0 to 21 for GAD-7, and 0 to 27 for PHQ-9, with higher scores indicating more severe anxiety or depressive symptoms. In the present study, GAD-7 and PHQ-9 both had good internal reliability (α = 0.81 and α = 0.85).Insomnia: We used the Insomnia Severity Index (ISI) a 7-item self-report questionnaire, to assess seven aspects of insomnia (Morin et al., 2011) . These included sleep onset, sleep maintenance, early morning awakening, interference with daily functioning, perceived prominence of impairment attributed to the sleep problem, concerns about sleep problems, and satisfaction with sleep patterns. Perceived severity of each item was rated on a 0-4 scale. The seven ratings were summed to obtain a total score ranging from 0 to 28. Previous studies had reported good psychometric properties for both the English-and French-language versions (Bastien, 2001; Blais et al., 1997) .\\n\\nPredictors and Moderators\\n\\nLoneliness Loneliness was assessed using the UCLA 3-Item Loneliness Scale (Hughes et al., 2004) . This scale measures three different aspects of loneliness: social connectedness, relational connectedness, and self-perceived connectedness. Each item is rated on a 3-point scale: 1 (Hardly ever), (Some of the time), and 3 (Often). Higher summed scores indicate greater degrees of loneliness. The cut-off point for loneliness was 6, in line with previous studies. The scale exhibited acceptable internal reliability in our sample (α = 0.71).\\n\\nCOVID-19 Related Worry\\n\\nThis was assessed with a single item, rated on a scale ranging from 1 (Not at all) to 5 (Extremely). Participants were asked to report their level of concern about the COVID-19 crisis.Sociodemographics and Health Status Participants provided information on their age, sex, education level, employment and working arrangements, living conditions, marital status, number of children, and place of residence. Data on preexisting mental and physical health conditions were also collected via a dichotomous question.\\n\\nData Analysis\\n\\nData were analysed using Mplus v. 8 (Muthen & Muthen, 2017) . Preliminary analyses consisted in checking whether the timing of our data collection influenced the assessment of our primary variables (i.e., loneliness, anxiety, depressive symptoms, and insomnia). The first national lockdown in France lasted from 17 March to 11 May 2020. We therefore verified whether participants who responded to the survey before the end of lockdown was announced (n = 462) differed from those who responded after the announcement (n = 94) on any primary variables. As no significant differences were observed (p ≥ 0.22), we pooled the data of these two subgroups.Following this step, we carried out descriptive statistics (frequency, mean, standard deviation) to summarize the data.The assumption of normal distribution of the data was also verified via skewness and kurtosis tests. No violations were observed, as all skewness values ranged between 0.58 and 1.27, and all and kurtosis values ranged between −0.27 and 0.96. Next, Pearson product-moment correlations were calculated out to verify the associations (and the directionality of these associations) of the main continuous variables. We then ran a series of moderation analyses through hierarchical linear regression models. Loneliness scores were entered in the model in the first step, followed by a multiplicative term representing the interaction between loneliness and each selected moderator in the second step, while controlling for other covariates in the third step. To reduce occurrence of multicollinearity among variables and aid in the interpretation of interactions, continuous variables were mean centered. The level of significance was set at .05; however, the marginally significant statistics for interactive effects were also considered (Kennedy-Shaffer, 2019).Finally, we performed three mediation analyses considering loneliness as a predictor variable, anxiety, depression and insomnia as outcome variables, respectively, and COVID-19 related worry as a potential mediator. The indirect effects were examined using bootstrapping methods, as recommended by Preacher and Hayes (2008) . We used 5000 bootstrap resamples from the original dataset (N = 556) to calculate the bias-corrected and accelerated 95% confidence interval (95% BCa CI). If the CI of the outcome of the mediation effect did not contain zero, then the mediation effect would be significant at the .05 level. \\n\\nDescriptive and Correlational Analyses\\n\\nIn our sample, the mean score on the UCLA Loneliness scale was 4.31 (SD = 1.60), and 18.9% (95% CI [15.7, 22 .4]) of participants reported severe loneliness during the first COVID-19 lockdown in France. As can be seen in Table 2 , Pearson product moment correlations showed that higher levels of loneliness correlated significantly with higher levels of COVID-19-related worry (r = .18), greater anxiety (r = .42), more depressive symptoms (r = .46), and greater insomnia (r = .27), all ps < .001.\\n\\nTests for Moderation Models\\n\\nIn all the hierarchical linear regression models, after controlling for covariates, high loneliness scores were still significantly associated with anxiety and depressive symptoms. See Supplementary Material for Tables (1-4). High loneliness scores were also significantly associated with insomnia, except for models where we entered the multiplicative terms Loneliness * Place of residence and Loneliness * Marital status. In total, we found four significant interactions: one between loneliness and anxiety, and three between loneliness and insomnia. First, working arrangements were found to moderate the relationship between loneliness and anxiety (ß = 1.75, SE = 0.57, p < .001). As depicted in Fig. 1 , when we plotted this interaction, we found that while higher levels of loneliness were associated with greater anxiety, this association was stronger among individuals who had lost their job because of the pandemic. Of note, the Loneliness * Working arrangements interaction almost significantly predicting insomnia symptoms, such that feelings of loneliness among individuals who worked from home (ß = −0.87, SE = 0.50, p = .08), followed by those who still went out to work (ß = −0.71, SE = 0.38, p = .06), tended to be associated with greater insomnia. Second, living conditions moderated the loneliness -insomnia relationship (ß = −1.02, SE = 0.37, p < .001). Visual inspection of Fig. 2 showed that participants with higher loneliness scores and who lived without family or other close relatives reported more severe insomnia. Third, the association between loneliness and insomnia varied according to health antecedents (ß = −0.80, SE = 0.40, p < .01). As can be seen in Fig. 3 , individuals with preexisting health problems who experienced greater feelings of loneliness also had an increased likelihood of reporting insomnia. Fourthly, loneliness and COVID-19-related worry interacted with each other in predicting insomnia (ß = 0.30, SE = 0.13, p < .05). More specifically, the loneliness -insomnia relationship was strong e r a m o n g i n d i v i d u a l s w i t h h i g h e r l e v e l s o f COVID-19-related worry than those who reported lower levels of COVID-19-related worry (see Fig. 4 ).\\n\\nTests for Mediation Models\\n\\nFigures 5, 6, and 7 summarize the results of the bootstrapped regression and mediation models for the effects of loneliness on anxiety, depressive symptoms, and insomnia through COVID-19-related worry, after controlling for all covariates. All three models were significant, and accounted for 28.9%, 33.7%, and 15.0% of the variance in anxiety, depressive symptoms, and insomnia. Loneliness was significantly associated with COVID-19 related worry (B = 0.09, SE = .03, p < .001), and had direct effects on anxiety (B = 1.20, SE = .05, p < .001), depressive symptoms (B = 1.37, SE = .13, p < .001), and insomnia (B = 0.88, SE = .10, p < .001). The 95% BCa CI for the mediated effects of COVID-19-related worry for all models did not contain 0, suggesting that COVID-19 related worry was a significant mediator in the relationship between loneliness and the three mental health and behavioural outcomes. Moreover, for all the mediation paths we tested, results revealed that the direct effects of COVID-19 related worry on the three outcomes remained significant, suggesting partial mediation.\\n\\nMain Findings of the Present Study\\n\\nThe overarching aim of this study was to examine the impact of loneliness on anxiety, depressive symptoms and insomnia, and to explore whether some selected biopsychosocial variables moderated or mediated these relationships. Taken together, findings indicated that greater loneliness was associated with greater anxiety, depressive symptoms, and insomnia in our sample during the first COVID-19 lockdown in France.In almost all the hierarchical linear regression models, these relationships remained statistically significant after accounting for covariates. This indicates that some sociodemographic factors, preexisting health status and COVID-19-related worry may contribute to anxiety, depressive symptoms, and insomnia. Across all regression models, employment and working arrangements modified the relationship between loneliness and anxiety. between loneliness and insomnia. No such evidence of moderating effects emerged for the relationship between loneliness and depressive symptoms. Furthermore, consistent with the third research question, we found evidence of the mediating effects of CoVID-related worry on pathways from loneliness to anxiety, depressive symptoms, and insomnia.\\n\\nComparison with Other Studies and Explanation of Findings\\n\\nThe weighted prevalence of severe loneliness was nearly 19% in our sample, which is similar to that reported in American (McGinty et al., 2020; Rosenberg et al., 2021) and Dutch (van der Velden et al., 2020, 2021) adult samples, but approximately two to three times lower than that reported in British (Groarke et al., 2020; Li & Wang, 2020) and Japanese (Stickley et al., 2020) adult samples. There are two possible explanations for these differences. First, there are cross-regional and cultural variations in loneliness and social isolation, as reported by D\\'Hombres et al. (2018), based on Joint Research Centre reports across European countries. Second, there are methodological issues, in that some studies used a single item to measure loneliness (e.g., Li & Wang, 2020) . Nevertheless, our finding demonstrates the robustness of loneliness as a predictor of poor mental health and behavioural problems, including anxiety, depressive symptoms, and insomnia. This is consistent with previous reports of a causal relationship between loneliness and physical and mental health problems (Beutel et al., 2017; Hawkley & Cacioppo, 2010; Lara et al., 2020; Leigh-Hunt et al., 2017; Holt-Lunstad et al., 2015; Lim et al., 2020; Solmi et al., 2020) . Our results also reinforce a growing body of research showing a significant association between loneliness during the pandemic and greater anxiety and depressive symptoms (Killgore et al., 2020a; Okruszek et al., 2020; Palgi et al., 2020; Tso & Park, 2020 ) and sleep problems (Grossman et al., 2021; Kokou-Kpolou et al., 2020a) . Furthermore, although a number of studies (Bu et al., 2020b; Buecker et al., 2020; Groarke et al., 2020; Hawkley et al., 2020; Solmi et al., 2020; Wickens et al., 2021) have found that high levels of loneliness during the ongoing pandemic vary according to sex, age, marital status, place of residence, and parenthood, we did not find that these variations predicted the severity of mental health and behavioural symptoms. Nevertheless, our findings showed that employment and working arrangements had a moderating effect on the relationship between loneliness and anxiety. Lonely feelings among individuals who had lost their job because of the pandemic were predictive of a severe risk of anxiety. In addition, individuals working from home who felt lonely tended to report more sleep problems. These results reflect the socioeconomic consequences of the pandemic on psychosocial wellbeing. The COVID-19 crisis has affected many business sectors, and tens of millions of individuals have lost or at risk to lose their jobs across the world. These socioeconomic consequences are found to translate in different forms of psychological distress including intolerance of uncertainty, anxiety, and social identity disturbance (Godinic et al., 2019) .Our findings also showed that preexisting health problems amplified the relationship between loneliness and insomnia. A large number of studies on COVID-19 have shown, albeit separately, that people with preexisting health problems report greater prevalence of loneliness (Bu et al., 2020b; Groarke et al., 2020) , and experience poor mental health and behavioural problems (for reviews, see Wang et al., 2020; Xiong et al., 2020) . Our findings reinforce these data and shed light on how the interaction between loneliness and preexisting physical or mental conditions exacerbates the risk of insomnia. It is somewhat surprising that this interaction was not associated with a higher likelihood of current anxiety and depressive symptoms. This may partially be explained by the shared mechanisms between previous medical and psychological conditions and current mental health status exacerbated by the COVID-19 crisis.The current study expands the literature by suggesting that worrying about the COVID-19 crisis has both moderating and mediating effects on pathways from loneliness to anxiety, depressive symptoms, and insomnia. This pattern of findings is consistent with a study by Grossman et al. (2021) , who found that sleep problems were associated with the loneliness -worry interaction during the pandemic. It also supports new studies of the mediating effects of worry on the relationships between different forms of loneliness (Anyan et al., 2020) , perceived vulnerability to COVID-19 (Boyraz et al., 2020) , and psychological distress, including anxiety, depressive symptoms, and posttraumatic stress.\\n\\nImplications\\n\\nRegarding the practical implications of the present study, our findings support the urgent need to pay attention to individuals with pre-existing health conditions The pandemic crisis with its consequent increase in fear, anxiety, etc., may have exacerbated their vulnerabilities and put them in heightened fragility (Megalakaki et al., 2021) . More so, the overemphasis on the pandemic may have translated into less attention to other diseases thereby leaving this categories of persons with less access to health care. A particular attention should be also paid to those who have lost their job because of the pandemic. These individuals have a greater risk of becoming disconnected from the professional and social networks that previously protected them. They are vulnerable to concerns and negative repetitive thoughts about their future prospects, which may increase their anxiety. Even though governments in many Western countries have implemented programmes to assist those who have lost their job because of the SARS-CoV-2 pandemic, together with other socioeconomically disadvantaged people, these may prove inadequate over the long term, in terms of meeting their basic psychosocial needs (e.g., self-utility, self-accomplishment) (Cénat et al., 2020) . Hence, these programmes should be accompanied by targeted mental health interventions. Attention should also be also paid to those who work from home, as abrupt transitions in work organization can lead to family and personal upheavals, which can affect sleep habits and homeostasis. Furthermore, our results on the dual moderating and mediating effects of COVID-19-related worry indicate that interventions aimed at slowing down perseverative cognition linked to the COVID-19 crisis and reducing the negative valence of its content would help people feeling lonely to improve their mental health and wellbeing. Loneliness is a modifiable factor, such that combined interventions targeting both loneliness and worry could lead to positive health outcomes for at-risk individuals as the pandemic continues to make itself felt.\\n\\nStrengths and Limitations\\n\\nThis represents the first study to examine the main effect of loneliness on mental health and behavioural outcomes induced by the COVID-19 crisis, as well as the moderating and mediating effects of biopsychosocial variables on these relationships. However, there were some limitations to the present study\\'s findings regarding the extent to which they can be generalized. First, the self-reported nature of the study may have some peculiar responder biases which were not controlled for. Second, the cross-sectional nature of the data, coupled with the nonprobability sampling strategy we used, prevented us from establishing causal relationships between variables. A third limitation is related to the use of a single item to assess COVID-19-related worry. This may have promoted under-reporting of feelings of loneliness, which may disproportionately affect certain groups.\\n\\nConclusion, Recommendation, and Future Direction\\n\\nIn sum, the present findings indicate that loneliness was a major mental health concern during the first COVID-19 lockdown in France. It was associated with three mental health and behavioural outcomes, namely anxiety, depressive symptoms, and insomnia. These health consequences of loneliness varied across sociodemographic groups. Employment and working arrangements, living conditions, preexisting medical or psychological problems, and COVID-19 related worry were found to moderate relationships between loneliness and the three mental health and behavioural outcomes. Both moderating and mediating effects were observed for COVID-19-related worry. This robust evidence-based knowledge could inform treatment recommendations for tackling prolonged self-isolation and loneliness during the SARS-CoV-2 pandemic for specific vulnerable groups. Future investigations could be extended to other vulnerable groups such as individuals who lost their loved ones during the pandemic and may be of particular concern for increased feelings of loneliness (Kokou-Kpolou et al., 2020b) . We encourage future research, if possible with longitudinal design, to use multiple-item scales in order to assess the multidimensional facets of loneliness (Anyan et al., 2020) . Given that our mediation models suggested partial mediation, future research could build on the current study\\'s findings by investigating other cognitive vulnerability mechanisms that may account for stronger relationships between feelings of loneliness and mental health and behavioural outcomes. Furthermore, for more in-depth understanding of these mechanisms, quantitative methods may be complemented with qualitative methods such as online photovoice which is a contextually appropriate method to exploring biopsychosocial well-being and concerns in the context of disasters (e.g., COVID-19 pandemic) (Tanhan, 2020; Tanhan & Strack, 2020) . Funding This article has been supported by the European center for humanities and social sciences (MESHS-Lille, France) and by the Regional Council Hauts-de-France.Data Availability The datasets generated during and/or analysed during the current study are available from the corresponding author on reasonable request.\\n\\nDeclarations\\n\\nConflict of Interest The authors declare that they have no conflict of interest.Ethics Approval The study protocol adhered to the guidelines of the Declaration of Helsinki and its later revisions, and was approved by the Ethics Committee of the Faculty of Psychotherapy and the Faculty of P s y c h o l o g y , S i g m u n d F r e u d U n i v e r s i t y -P a r i s (LBP2CFYKAO1BEX87902).Consent to Participate Informed consent was obtained from all individual participants for whom identifying information is included in this article.\\n\\nConsent for Publication\\n\\nThis manuscript has not been published elsewhere and is not under consideration by another journal. All authors are aware of its content and approve its submission and give their consent for publication in Current Psychology.\\n\\n'"
      ]
     },
     "execution_count": 78,
     "metadata": {},
     "output_type": "execute_result"
    }
   ],
   "source": [
    "consolidatedData.text[0]"
   ]
  },
  {
   "cell_type": "code",
   "execution_count": 79,
   "id": "be31da8c",
   "metadata": {},
   "outputs": [],
   "source": [
    "from wordcloud import WordCloud, STOPWORDS\n",
    "import matplotlib.pyplot as plt\n",
    "from tqdm import tqdm_notebook\n",
    "\n",
    "stopwords = set(STOPWORDS)\n",
    "#https://www.kaggle.com/gpreda/cord-19-solution-toolbox\n",
    "\n",
    "def show_wordcloud(data, title = None):\n",
    "    wordcloud = WordCloud(\n",
    "        background_color='white',\n",
    "        stopwords=stopwords,\n",
    "        max_words=200,\n",
    "        max_font_size=30, \n",
    "        scale=5,\n",
    "        random_state=1\n",
    "    ).generate(str(data))\n",
    "\n",
    "    fig = plt.figure(1, figsize=(10,10))\n",
    "    plt.axis('off')\n",
    "    if title: \n",
    "        fig.suptitle(title, fontsize=14)\n",
    "        fig.subplots_adjust(top=2.3)\n",
    "\n",
    "    plt.imshow(wordcloud)\n",
    "    plt.show()"
   ]
  },
  {
   "cell_type": "code",
   "execution_count": 80,
   "id": "81bbd848",
   "metadata": {},
   "outputs": [
    {
     "data": {
      "image/png": "[encoded data removed]",
      "text/plain": [
       "<Figure size 720x720 with 1 Axes>"
      ]
     },
     "metadata": {
      "needs_background": "light"
     },
     "output_type": "display_data"
    }
   ],
   "source": [
    "show_wordcloud(consolidatedData['abstract'], title = 'Consolidated Documents- papers Abstract - frequent words (400 sample)')"
   ]
  },
  {
   "cell_type": "code",
   "execution_count": 81,
   "id": "a7a9d7a0",
   "metadata": {},
   "outputs": [],
   "source": [
    "df = consolidatedData\n",
    "df = df.abstract.dropna()\n",
    "data = df.values.tolist()"
   ]
  },
  {
   "cell_type": "code",
   "execution_count": 82,
   "id": "9b1b9def",
   "metadata": {},
   "outputs": [],
   "source": [
    "simsentence = pd.read_csv('/Users/swathipathaikara/Desktop/DCSI/Optimization/simsentence.csv')"
   ]
  },
  {
   "cell_type": "code",
   "execution_count": 83,
   "id": "1bc305da",
   "metadata": {},
   "outputs": [
    {
     "ename": "NameError",
     "evalue": "name 'gensim' is not defined",
     "output_type": "error",
     "traceback": [
      "\u001b[0;31m---------------------------------------------------------------------------\u001b[0m",
      "\u001b[0;31mNameError\u001b[0m                                 Traceback (most recent call last)",
      "Input \u001b[0;32mIn [83]\u001b[0m, in \u001b[0;36m<cell line: 5>\u001b[0;34m()\u001b[0m\n\u001b[1;32m      2\u001b[0m     \u001b[38;5;28;01mfor\u001b[39;00m sentence \u001b[38;5;129;01min\u001b[39;00m sentences:\n\u001b[1;32m      3\u001b[0m         \u001b[38;5;28;01myield\u001b[39;00m(gensim\u001b[38;5;241m.\u001b[39mutils\u001b[38;5;241m.\u001b[39msimple_preprocess(\u001b[38;5;28mstr\u001b[39m(sentence), deacc\u001b[38;5;241m=\u001b[39m\u001b[38;5;28;01mTrue\u001b[39;00m))  \n\u001b[0;32m----> 5\u001b[0m data_words \u001b[38;5;241m=\u001b[39m \u001b[38;5;28;43mlist\u001b[39;49m\u001b[43m(\u001b[49m\u001b[43msent_to_words\u001b[49m\u001b[43m(\u001b[49m\u001b[43mdata\u001b[49m\u001b[43m)\u001b[49m\u001b[43m)\u001b[49m\n\u001b[1;32m      7\u001b[0m \u001b[38;5;28mprint\u001b[39m(data_words[:\u001b[38;5;241m1\u001b[39m])\n",
      "Input \u001b[0;32mIn [83]\u001b[0m, in \u001b[0;36msent_to_words\u001b[0;34m(sentences)\u001b[0m\n\u001b[1;32m      1\u001b[0m \u001b[38;5;28;01mdef\u001b[39;00m \u001b[38;5;21msent_to_words\u001b[39m(sentences):\n\u001b[1;32m      2\u001b[0m     \u001b[38;5;28;01mfor\u001b[39;00m sentence \u001b[38;5;129;01min\u001b[39;00m sentences:\n\u001b[0;32m----> 3\u001b[0m         \u001b[38;5;28;01myield\u001b[39;00m(\u001b[43mgensim\u001b[49m\u001b[38;5;241m.\u001b[39mutils\u001b[38;5;241m.\u001b[39msimple_preprocess(\u001b[38;5;28mstr\u001b[39m(sentence), deacc\u001b[38;5;241m=\u001b[39m\u001b[38;5;28;01mTrue\u001b[39;00m))\n",
      "\u001b[0;31mNameError\u001b[0m: name 'gensim' is not defined"
     ]
    }
   ],
   "source": [
    "def sent_to_words(sentences):\n",
    "    for sentence in sentences:\n",
    "        yield(gensim.utils.simple_preprocess(str(sentence), deacc=True))  \n",
    "\n",
    "data_words = list(sent_to_words(data))\n",
    "\n",
    "print(data_words[:1])"
   ]
  },
  {
   "cell_type": "code",
   "execution_count": 74,
   "id": "33abfa4e",
   "metadata": {},
   "outputs": [
    {
     "name": "stdout",
     "output_type": "stream",
     "text": [
      "Collecting package metadata (current_repodata.json): done\n",
      "Solving environment: failed with initial frozen solve. Retrying with flexible solve.\n",
      "Solving environment: failed with repodata from current_repodata.json, will retry with next repodata source.\n",
      "Collecting package metadata (repodata.json): done\n",
      "Solving environment: failed with initial frozen solve. Retrying with flexible solve.\n",
      "Solving environment: \\ \n",
      "Found conflicts! Looking for incompatible packages.\n",
      "This can take several minutes.  Press CTRL-C to abort.\n",
      "Examining conflict for s3transfer boto3 botocore:  74%|▋| 213/288 [06:56<00:12\\ ^C\n",
      "                                                                               failed\n",
      "\n",
      "CondaError: KeyboardInterrupt\n",
      "\n",
      "\n",
      "Note: you may need to restart the kernel to use updated packages.\n"
     ]
    }
   ],
   "source": [
    "conda install -c conda-forge gensim"
   ]
  },
  {
   "cell_type": "code",
   "execution_count": 75,
   "id": "10b6723c",
   "metadata": {},
   "outputs": [
    {
     "name": "stdout",
     "output_type": "stream",
     "text": [
      "Collecting gensim\n",
      "  Downloading gensim-4.2.0.tar.gz (23.2 MB)\n",
      "\u001b[2K     \u001b[90m━━━━━━━━━━━━━━━━━━━━━━━━━━━━━━━━━━━━━━━━\u001b[0m \u001b[32m23.2/23.2 MB\u001b[0m \u001b[31m8.0 MB/s\u001b[0m eta \u001b[36m0:00:00\u001b[0m00:01\u001b[0m00:01\u001b[0m\n",
      "\u001b[?25h  Preparing metadata (setup.py) ... \u001b[?25ldone\n",
      "\u001b[?25hRequirement already satisfied: numpy>=1.17.0 in /Users/swathipathaikara/miniforge3/envs/tensorflow/lib/python3.9/site-packages (from gensim) (1.22.2)\n",
      "Requirement already satisfied: scipy>=0.18.1 in /Users/swathipathaikara/miniforge3/envs/tensorflow/lib/python3.9/site-packages (from gensim) (1.8.1)\n",
      "Collecting smart_open>=1.8.1\n",
      "  Downloading smart_open-6.0.0-py3-none-any.whl (58 kB)\n",
      "\u001b[2K     \u001b[90m━━━━━━━━━━━━━━━━━━━━━━━━━━━━━━━━━━━━━━━━\u001b[0m \u001b[32m58.4/58.4 kB\u001b[0m \u001b[31m1.9 MB/s\u001b[0m eta \u001b[36m0:00:00\u001b[0m\n",
      "\u001b[?25hBuilding wheels for collected packages: gensim\n",
      "  Building wheel for gensim (setup.py) ... \u001b[?25ldone\n",
      "\u001b[?25h  Created wheel for gensim: filename=gensim-4.2.0-cp39-cp39-macosx_11_0_arm64.whl size=23501979 sha256=9d263ad276232e8b111d7446d13e996b3b72eadd737ae81aa3e476725de50f64\n",
      "  Stored in directory: /Users/swathipathaikara/Library/Caches/pip/wheels/ed/5e/79/d2997e72ba8900a820dd5870a3566779e52ee8279f71b4c799\n",
      "Successfully built gensim\n",
      "Installing collected packages: smart_open, gensim\n",
      "Successfully installed gensim-4.2.0 smart_open-6.0.0\n",
      "Note: you may need to restart the kernel to use updated packages.\n"
     ]
    }
   ],
   "source": [
    "pip install gensim"
   ]
  },
  {
   "cell_type": "code",
   "execution_count": 1,
   "id": "29ee7b36",
   "metadata": {},
   "outputs": [
    {
     "ename": "RuntimeError",
     "evalue": "Compiled extensions are unavailable. If you've installed from a package, ask the package maintainer to include compiled extensions. If you're building Gensim from source yourself, install Cython and a C compiler, and then run `python setup.py build_ext --inplace` to retry. ",
     "output_type": "error",
     "traceback": [
      "\u001b[0;31m---------------------------------------------------------------------------\u001b[0m",
      "\u001b[0;31mImportError\u001b[0m                               Traceback (most recent call last)",
      "File \u001b[0;32m~/miniforge3/envs/tensorflow/lib/python3.9/site-packages/gensim/matutils.py:1353\u001b[0m, in \u001b[0;36m<module>\u001b[0;34m\u001b[0m\n\u001b[1;32m   1352\u001b[0m \u001b[38;5;28;01mtry\u001b[39;00m:\n\u001b[0;32m-> 1353\u001b[0m     \u001b[38;5;28;01mfrom\u001b[39;00m \u001b[38;5;21;01mgensim\u001b[39;00m\u001b[38;5;21;01m.\u001b[39;00m\u001b[38;5;21;01mcorpora\u001b[39;00m\u001b[38;5;21;01m.\u001b[39;00m\u001b[38;5;21;01m_mmreader\u001b[39;00m \u001b[38;5;28;01mimport\u001b[39;00m MmReader  \u001b[38;5;66;03m# noqa: F401\u001b[39;00m\n\u001b[1;32m   1354\u001b[0m \u001b[38;5;28;01mexcept\u001b[39;00m \u001b[38;5;167;01mImportError\u001b[39;00m:\n",
      "\u001b[0;31mImportError\u001b[0m: dlopen(/Users/swathipathaikara/miniforge3/envs/tensorflow/lib/python3.9/site-packages/gensim/corpora/_mmreader.cpython-39-darwin.so, 2): no suitable image found.  Did find:\n\t/Users/swathipathaikara/miniforge3/envs/tensorflow/lib/python3.9/site-packages/gensim/corpora/_mmreader.cpython-39-darwin.so: mach-o, but wrong architecture\n\t/Users/swathipathaikara/miniforge3/envs/tensorflow/lib/python3.9/site-packages/gensim/corpora/_mmreader.cpython-39-darwin.so: stat() failed with errno=22",
      "\nDuring handling of the above exception, another exception occurred:\n",
      "\u001b[0;31mRuntimeError\u001b[0m                              Traceback (most recent call last)",
      "Input \u001b[0;32mIn [1]\u001b[0m, in \u001b[0;36m<cell line: 1>\u001b[0;34m()\u001b[0m\n\u001b[0;32m----> 1\u001b[0m \u001b[38;5;28;01mimport\u001b[39;00m \u001b[38;5;21;01mgensim\u001b[39;00m\n",
      "File \u001b[0;32m~/miniforge3/envs/tensorflow/lib/python3.9/site-packages/gensim/__init__.py:11\u001b[0m, in \u001b[0;36m<module>\u001b[0;34m\u001b[0m\n\u001b[1;32m      7\u001b[0m __version__ \u001b[38;5;241m=\u001b[39m \u001b[38;5;124m'\u001b[39m\u001b[38;5;124m4.2.0\u001b[39m\u001b[38;5;124m'\u001b[39m\n\u001b[1;32m      9\u001b[0m \u001b[38;5;28;01mimport\u001b[39;00m \u001b[38;5;21;01mlogging\u001b[39;00m\n\u001b[0;32m---> 11\u001b[0m \u001b[38;5;28;01mfrom\u001b[39;00m \u001b[38;5;21;01mgensim\u001b[39;00m \u001b[38;5;28;01mimport\u001b[39;00m parsing, corpora, matutils, interfaces, models, similarities, utils  \u001b[38;5;66;03m# noqa:F401\u001b[39;00m\n\u001b[1;32m     14\u001b[0m logger \u001b[38;5;241m=\u001b[39m logging\u001b[38;5;241m.\u001b[39mgetLogger(\u001b[38;5;124m'\u001b[39m\u001b[38;5;124mgensim\u001b[39m\u001b[38;5;124m'\u001b[39m)\n\u001b[1;32m     15\u001b[0m \u001b[38;5;28;01mif\u001b[39;00m \u001b[38;5;129;01mnot\u001b[39;00m logger\u001b[38;5;241m.\u001b[39mhandlers:  \u001b[38;5;66;03m# To ensure reload() doesn't add another one\u001b[39;00m\n",
      "File \u001b[0;32m~/miniforge3/envs/tensorflow/lib/python3.9/site-packages/gensim/corpora/__init__.py:6\u001b[0m, in \u001b[0;36m<module>\u001b[0;34m\u001b[0m\n\u001b[1;32m      1\u001b[0m \u001b[38;5;124;03m\"\"\"\u001b[39;00m\n\u001b[1;32m      2\u001b[0m \u001b[38;5;124;03mThis package contains implementations of various streaming corpus I/O format.\u001b[39;00m\n\u001b[1;32m      3\u001b[0m \u001b[38;5;124;03m\"\"\"\u001b[39;00m\n\u001b[1;32m      5\u001b[0m \u001b[38;5;66;03m# bring corpus classes directly into package namespace, to save some typing\u001b[39;00m\n\u001b[0;32m----> 6\u001b[0m \u001b[38;5;28;01mfrom\u001b[39;00m \u001b[38;5;21;01m.\u001b[39;00m\u001b[38;5;21;01mindexedcorpus\u001b[39;00m \u001b[38;5;28;01mimport\u001b[39;00m IndexedCorpus  \u001b[38;5;66;03m# noqa:F401 must appear before the other classes\u001b[39;00m\n\u001b[1;32m      8\u001b[0m \u001b[38;5;28;01mfrom\u001b[39;00m \u001b[38;5;21;01m.\u001b[39;00m\u001b[38;5;21;01mmmcorpus\u001b[39;00m \u001b[38;5;28;01mimport\u001b[39;00m MmCorpus  \u001b[38;5;66;03m# noqa:F401\u001b[39;00m\n\u001b[1;32m      9\u001b[0m \u001b[38;5;28;01mfrom\u001b[39;00m \u001b[38;5;21;01m.\u001b[39;00m\u001b[38;5;21;01mbleicorpus\u001b[39;00m \u001b[38;5;28;01mimport\u001b[39;00m BleiCorpus  \u001b[38;5;66;03m# noqa:F401\u001b[39;00m\n",
      "File \u001b[0;32m~/miniforge3/envs/tensorflow/lib/python3.9/site-packages/gensim/corpora/indexedcorpus.py:14\u001b[0m, in \u001b[0;36m<module>\u001b[0;34m\u001b[0m\n\u001b[1;32m     10\u001b[0m \u001b[38;5;28;01mimport\u001b[39;00m \u001b[38;5;21;01mlogging\u001b[39;00m\n\u001b[1;32m     12\u001b[0m \u001b[38;5;28;01mimport\u001b[39;00m \u001b[38;5;21;01mnumpy\u001b[39;00m\n\u001b[0;32m---> 14\u001b[0m \u001b[38;5;28;01mfrom\u001b[39;00m \u001b[38;5;21;01mgensim\u001b[39;00m \u001b[38;5;28;01mimport\u001b[39;00m interfaces, utils\n\u001b[1;32m     16\u001b[0m logger \u001b[38;5;241m=\u001b[39m logging\u001b[38;5;241m.\u001b[39mgetLogger(\u001b[38;5;18m__name__\u001b[39m)\n\u001b[1;32m     19\u001b[0m \u001b[38;5;28;01mclass\u001b[39;00m \u001b[38;5;21;01mIndexedCorpus\u001b[39;00m(interfaces\u001b[38;5;241m.\u001b[39mCorpusABC):\n",
      "File \u001b[0;32m~/miniforge3/envs/tensorflow/lib/python3.9/site-packages/gensim/interfaces.py:19\u001b[0m, in \u001b[0;36m<module>\u001b[0;34m\u001b[0m\n\u001b[1;32m      7\u001b[0m \u001b[38;5;124;03m\"\"\"Basic interfaces used across the whole Gensim package.\u001b[39;00m\n\u001b[1;32m      8\u001b[0m \n\u001b[1;32m      9\u001b[0m \u001b[38;5;124;03mThese interfaces are used for building corpora, model transformation and similarity queries.\u001b[39;00m\n\u001b[0;32m   (...)\u001b[0m\n\u001b[1;32m     14\u001b[0m \n\u001b[1;32m     15\u001b[0m \u001b[38;5;124;03m\"\"\"\u001b[39;00m\n\u001b[1;32m     17\u001b[0m \u001b[38;5;28;01mimport\u001b[39;00m \u001b[38;5;21;01mlogging\u001b[39;00m\n\u001b[0;32m---> 19\u001b[0m \u001b[38;5;28;01mfrom\u001b[39;00m \u001b[38;5;21;01mgensim\u001b[39;00m \u001b[38;5;28;01mimport\u001b[39;00m utils, matutils\n\u001b[1;32m     22\u001b[0m logger \u001b[38;5;241m=\u001b[39m logging\u001b[38;5;241m.\u001b[39mgetLogger(\u001b[38;5;18m__name__\u001b[39m)\n\u001b[1;32m     25\u001b[0m \u001b[38;5;28;01mclass\u001b[39;00m \u001b[38;5;21;01mCorpusABC\u001b[39;00m(utils\u001b[38;5;241m.\u001b[39mSaveLoad):\n",
      "File \u001b[0;32m~/miniforge3/envs/tensorflow/lib/python3.9/site-packages/gensim/matutils.py:1355\u001b[0m, in \u001b[0;36m<module>\u001b[0;34m\u001b[0m\n\u001b[1;32m   1353\u001b[0m     \u001b[38;5;28;01mfrom\u001b[39;00m \u001b[38;5;21;01mgensim\u001b[39;00m\u001b[38;5;21;01m.\u001b[39;00m\u001b[38;5;21;01mcorpora\u001b[39;00m\u001b[38;5;21;01m.\u001b[39;00m\u001b[38;5;21;01m_mmreader\u001b[39;00m \u001b[38;5;28;01mimport\u001b[39;00m MmReader  \u001b[38;5;66;03m# noqa: F401\u001b[39;00m\n\u001b[1;32m   1354\u001b[0m \u001b[38;5;28;01mexcept\u001b[39;00m \u001b[38;5;167;01mImportError\u001b[39;00m:\n\u001b[0;32m-> 1355\u001b[0m     \u001b[38;5;28;01mraise\u001b[39;00m utils\u001b[38;5;241m.\u001b[39mNO_CYTHON\n",
      "\u001b[0;31mRuntimeError\u001b[0m: Compiled extensions are unavailable. If you've installed from a package, ask the package maintainer to include compiled extensions. If you're building Gensim from source yourself, install Cython and a C compiler, and then run `python setup.py build_ext --inplace` to retry. "
     ]
    }
   ],
   "source": [
    "import gensim"
   ]
  },
  {
   "cell_type": "code",
   "execution_count": 77,
   "id": "c0e18570",
   "metadata": {},
   "outputs": [],
   "source": [
    "#https://github.com/cjriggio/classifying_medical_innovation\n",
    "def remove_stopwords(texts):\n",
    "    return [[word for word in simple_preprocess(str(doc)) if word not in stop_words] for doc in texts]\n",
    "\n",
    "def make_bigrams(texts):\n",
    "    return [bigram_mod[doc] for doc in texts]\n",
    "\n",
    "def make_trigrams(texts):\n",
    "    return [trigram_mod[bigram_mod[doc]] for doc in texts]\n",
    "\n",
    "def lemmatization(texts, allowed_postags=['NOUN', 'ADJ', 'VERB', 'ADV']):\n",
    "    \"\"\"https://spacy.io/api/annotation\"\"\"\n",
    "    texts_out = []\n",
    "    for sent in texts:\n",
    "        doc = nlp(\" \".join(sent)) \n",
    "        texts_out.append([token.lemma_ for token in doc if token.pos_ in allowed_postags])\n",
    "    return texts_out"
   ]
  },
  {
   "cell_type": "code",
   "execution_count": 79,
   "id": "bdcf12a2",
   "metadata": {},
   "outputs": [
    {
     "ename": "NameError",
     "evalue": "name 'data_words' is not defined",
     "output_type": "error",
     "traceback": [
      "\u001b[0;31m---------------------------------------------------------------------------\u001b[0m",
      "\u001b[0;31mNameError\u001b[0m                                 Traceback (most recent call last)",
      "Input \u001b[0;32mIn [79]\u001b[0m, in \u001b[0;36m<cell line: 2>\u001b[0;34m()\u001b[0m\n\u001b[1;32m      1\u001b[0m \u001b[38;5;66;03m# Remove Stop Words\u001b[39;00m\n\u001b[0;32m----> 2\u001b[0m data_words_nostops \u001b[38;5;241m=\u001b[39m remove_stopwords(\u001b[43mdata_words\u001b[49m)\n\u001b[1;32m      4\u001b[0m \u001b[38;5;66;03m# Form Bigrams\u001b[39;00m\n\u001b[1;32m      5\u001b[0m data_words_bigrams \u001b[38;5;241m=\u001b[39m make_bigrams(data_words_nostops)\n",
      "\u001b[0;31mNameError\u001b[0m: name 'data_words' is not defined"
     ]
    }
   ],
   "source": [
    "# Remove Stop Words\n",
    "data_words_nostops = remove_stopwords(data_words)\n",
    "\n",
    "# Form Bigrams\n",
    "data_words_bigrams = make_bigrams(data_words_nostops)\n",
    "\n",
    "# Initialize spacy 'en' model, keeping only tagger component (for efficiency)\n",
    "# python3 -m spacy download en\n",
    "nlp = spacy.load('en', disable=['parser', 'ner'])\n",
    "\n",
    "# Do lemmatization keeping only noun, adj, vb, adv\n",
    "data_lemmatized = lemmatization(data_words_bigrams, allowed_postags=['NOUN', 'ADJ', 'VERB', 'ADV'])\n",
    "\n",
    "print(data_lemmatized[1])"
   ]
  },
  {
   "cell_type": "code",
   "execution_count": 80,
   "id": "d8c7d2ca",
   "metadata": {},
   "outputs": [
    {
     "name": "stdout",
     "output_type": "stream",
     "text": [
      "Requirement already satisfied: gensim in /Users/swathipathaikara/miniforge3/envs/tensorflow/lib/python3.9/site-packages (4.2.0)\n",
      "Requirement already satisfied: numpy>=1.17.0 in /Users/swathipathaikara/miniforge3/envs/tensorflow/lib/python3.9/site-packages (from gensim) (1.22.2)\n",
      "Requirement already satisfied: smart-open>=1.8.1 in /Users/swathipathaikara/miniforge3/envs/tensorflow/lib/python3.9/site-packages (from gensim) (6.0.0)\n",
      "Requirement already satisfied: scipy>=0.18.1 in /Users/swathipathaikara/miniforge3/envs/tensorflow/lib/python3.9/site-packages (from gensim) (1.8.1)\n",
      "Note: you may need to restart the kernel to use updated packages.\n"
     ]
    }
   ],
   "source": [
    "pip install -U gensim"
   ]
  },
  {
   "cell_type": "code",
   "execution_count": 82,
   "id": "e05cb871",
   "metadata": {},
   "outputs": [
    {
     "name": "stdout",
     "output_type": "stream",
     "text": [
      "Collecting Cython\n",
      "  Downloading Cython-0.29.31-py2.py3-none-any.whl (986 kB)\n",
      "\u001b[2K     \u001b[90m━━━━━━━━━━━━━━━━━━━━━━━━━━━━━━━━━━━━━━━\u001b[0m \u001b[32m986.4/986.4 kB\u001b[0m \u001b[31m6.1 MB/s\u001b[0m eta \u001b[36m0:00:00\u001b[0ma \u001b[36m0:00:01\u001b[0m\n",
      "\u001b[?25hInstalling collected packages: Cython\n",
      "Successfully installed Cython-0.29.31\n",
      "Note: you may need to restart the kernel to use updated packages.\n"
     ]
    }
   ],
   "source": [
    "pip install Cython"
   ]
  },
  {
   "cell_type": "code",
   "execution_count": 45,
   "id": "203d5e87",
   "metadata": {},
   "outputs": [
    {
     "name": "stdout",
     "output_type": "stream",
     "text": [
      "Collecting opendatasets\n",
      "  Downloading opendatasets-0.1.22-py3-none-any.whl (15 kB)\n",
      "Requirement already satisfied: click in /Users/swathipathaikara/opt/anaconda3/lib/python3.9/site-packages (from opendatasets) (8.0.3)\n",
      "Requirement already satisfied: kaggle in /Users/swathipathaikara/opt/anaconda3/lib/python3.9/site-packages (from opendatasets) (1.5.12)\n",
      "Requirement already satisfied: tqdm in /Users/swathipathaikara/opt/anaconda3/lib/python3.9/site-packages (from opendatasets) (4.62.3)\n",
      "Requirement already satisfied: certifi in /Users/swathipathaikara/opt/anaconda3/lib/python3.9/site-packages (from kaggle->opendatasets) (2021.10.8)\n",
      "Requirement already satisfied: requests in /Users/swathipathaikara/opt/anaconda3/lib/python3.9/site-packages (from kaggle->opendatasets) (2.26.0)\n",
      "Requirement already satisfied: python-dateutil in /Users/swathipathaikara/opt/anaconda3/lib/python3.9/site-packages (from kaggle->opendatasets) (2.8.2)\n",
      "Requirement already satisfied: python-slugify in /Users/swathipathaikara/opt/anaconda3/lib/python3.9/site-packages (from kaggle->opendatasets) (5.0.2)\n",
      "Requirement already satisfied: urllib3 in /Users/swathipathaikara/opt/anaconda3/lib/python3.9/site-packages (from kaggle->opendatasets) (1.26.7)\n",
      "Requirement already satisfied: six>=1.10 in /Users/swathipathaikara/opt/anaconda3/lib/python3.9/site-packages (from kaggle->opendatasets) (1.16.0)\n",
      "Requirement already satisfied: text-unidecode>=1.3 in /Users/swathipathaikara/opt/anaconda3/lib/python3.9/site-packages (from python-slugify->kaggle->opendatasets) (1.3)\n",
      "Requirement already satisfied: idna<4,>=2.5 in /Users/swathipathaikara/opt/anaconda3/lib/python3.9/site-packages (from requests->kaggle->opendatasets) (3.2)\n",
      "Requirement already satisfied: charset-normalizer~=2.0.0 in /Users/swathipathaikara/opt/anaconda3/lib/python3.9/site-packages (from requests->kaggle->opendatasets) (2.0.4)\n",
      "Installing collected packages: opendatasets\n",
      "Successfully installed opendatasets-0.1.22\n"
     ]
    }
   ],
   "source": [
    "!pip install opendatasets"
   ]
  },
  {
   "cell_type": "code",
   "execution_count": 47,
   "id": "b42ff608",
   "metadata": {},
   "outputs": [
    {
     "ename": "ModuleNotFoundError",
     "evalue": "No module named 'opendatasets'",
     "output_type": "error",
     "traceback": [
      "\u001b[0;31m---------------------------------------------------------------------------\u001b[0m",
      "\u001b[0;31mModuleNotFoundError\u001b[0m                       Traceback (most recent call last)",
      "Input \u001b[0;32mIn [47]\u001b[0m, in \u001b[0;36m<cell line: 1>\u001b[0;34m()\u001b[0m\n\u001b[0;32m----> 1\u001b[0m \u001b[38;5;28;01mimport\u001b[39;00m \u001b[38;5;21;01mopendatasets\u001b[39;00m \u001b[38;5;28;01mas\u001b[39;00m \u001b[38;5;21;01mod\u001b[39;00m\n",
      "\u001b[0;31mModuleNotFoundError\u001b[0m: No module named 'opendatasets'"
     ]
    }
   ],
   "source": [
    "import opendatasets as od"
   ]
  },
  {
   "cell_type": "code",
   "execution_count": null,
   "id": "47d34428",
   "metadata": {},
   "outputs": [],
   "source": []
  }
 ],
 "metadata": {
  "kernelspec": {
   "display_name": "Python 3.9 (tensorflow)",
   "language": "python",
   "name": "tensorflow"
  },
  "language_info": {
   "codemirror_mode": {
    "name": "ipython",
    "version": 3
   },
   "file_extension": ".py",
   "mimetype": "text/x-python",
   "name": "python",
   "nbconvert_exporter": "python",
   "pygments_lexer": "ipython3",
   "version": "3.9.12"
  }
 },
 "nbformat": 4,
 "nbformat_minor": 5
}
